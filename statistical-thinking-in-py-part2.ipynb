{
 "cells": [
  {
   "cell_type": "markdown",
   "metadata": {},
   "source": [
    "# Chp. 1 Optimal Parameters\n",
    "Justin Bois, Ph.D.\n",
    "\n",
    "Outcomes of measurements follow probability distributions\n",
    "- defined by the story of how the data came to be\n",
    "\n",
    "Michaelson's speed of light\n",
    "- assumed results were normally distributed\n",
    "    - verified by looking at the PDF\n",
    "    - and the CDF\n",
    "        -more effective because there is no binning bias"
   ]
  },
  {
   "cell_type": "code",
   "execution_count": 1,
   "metadata": {},
   "outputs": [],
   "source": [
    "import pandas as pd"
   ]
  },
  {
   "cell_type": "code",
   "execution_count": 2,
   "metadata": {},
   "outputs": [],
   "source": [
    "import numpy as np\n",
    "import matplotlib.pyplot as plt"
   ]
  },
  {
   "cell_type": "code",
   "execution_count": 3,
   "metadata": {},
   "outputs": [],
   "source": [
    "import seaborn as sns"
   ]
  },
  {
   "cell_type": "code",
   "execution_count": 4,
   "metadata": {},
   "outputs": [],
   "source": [
    "sns.set()"
   ]
  },
  {
   "cell_type": "code",
   "execution_count": 5,
   "metadata": {},
   "outputs": [
    {
     "data": {
      "text/html": [
       "<div>\n",
       "<style scoped>\n",
       "    .dataframe tbody tr th:only-of-type {\n",
       "        vertical-align: middle;\n",
       "    }\n",
       "\n",
       "    .dataframe tbody tr th {\n",
       "        vertical-align: top;\n",
       "    }\n",
       "\n",
       "    .dataframe thead th {\n",
       "        text-align: right;\n",
       "    }\n",
       "</style>\n",
       "<table border=\"1\" class=\"dataframe\">\n",
       "  <thead>\n",
       "    <tr style=\"text-align: right;\">\n",
       "      <th></th>\n",
       "      <th>Expt</th>\n",
       "      <th>Run</th>\n",
       "      <th>Speed</th>\n",
       "    </tr>\n",
       "  </thead>\n",
       "  <tbody>\n",
       "    <tr>\n",
       "      <th>1</th>\n",
       "      <td>1</td>\n",
       "      <td>1</td>\n",
       "      <td>850</td>\n",
       "    </tr>\n",
       "    <tr>\n",
       "      <th>2</th>\n",
       "      <td>1</td>\n",
       "      <td>2</td>\n",
       "      <td>740</td>\n",
       "    </tr>\n",
       "    <tr>\n",
       "      <th>3</th>\n",
       "      <td>1</td>\n",
       "      <td>3</td>\n",
       "      <td>900</td>\n",
       "    </tr>\n",
       "    <tr>\n",
       "      <th>4</th>\n",
       "      <td>1</td>\n",
       "      <td>4</td>\n",
       "      <td>1070</td>\n",
       "    </tr>\n",
       "    <tr>\n",
       "      <th>5</th>\n",
       "      <td>1</td>\n",
       "      <td>5</td>\n",
       "      <td>930</td>\n",
       "    </tr>\n",
       "  </tbody>\n",
       "</table>\n",
       "</div>"
      ],
      "text/plain": [
       "   Expt  Run  Speed\n",
       "1     1    1    850\n",
       "2     1    2    740\n",
       "3     1    3    900\n",
       "4     1    4   1070\n",
       "5     1    5    930"
      ]
     },
     "execution_count": 5,
     "metadata": {},
     "output_type": "execute_result"
    }
   ],
   "source": [
    "# read in the michelson data\n",
    "michelson_speed_of_light = pd.read_csv('morley.csv', index_col=0)\n",
    "michelson_speed_of_light.head()\n",
    "\n",
    "#Several Experiments, each with 20 \"runs\" and the corresponding measurement"
   ]
  },
  {
   "cell_type": "markdown",
   "metadata": {},
   "source": [
    "Description\n",
    "\n",
    "A classical data of Michelson (but not this one with Morley) on measurements done in 1879 on the speed of light. The data consists of five experiments, each consisting of 20 consecutive ‘runs’. The response is the speed of light measurement, suitably coded (km/sec, with 299000 subtracted).\n",
    "\n",
    "https://stat.ethz.ch/R-manual/R-devel/library/datasets/html/morley.html, consulted, 5/29/18, 3:19 pm, CST"
   ]
  },
  {
   "cell_type": "code",
   "execution_count": 6,
   "metadata": {},
   "outputs": [
    {
     "data": {
      "text/html": [
       "<div>\n",
       "<style scoped>\n",
       "    .dataframe tbody tr th:only-of-type {\n",
       "        vertical-align: middle;\n",
       "    }\n",
       "\n",
       "    .dataframe tbody tr th {\n",
       "        vertical-align: top;\n",
       "    }\n",
       "\n",
       "    .dataframe thead th {\n",
       "        text-align: right;\n",
       "    }\n",
       "</style>\n",
       "<table border=\"1\" class=\"dataframe\">\n",
       "  <thead>\n",
       "    <tr style=\"text-align: right;\">\n",
       "      <th></th>\n",
       "      <th>Expt</th>\n",
       "      <th>Run</th>\n",
       "      <th>Speed</th>\n",
       "    </tr>\n",
       "  </thead>\n",
       "  <tbody>\n",
       "    <tr>\n",
       "      <th>1</th>\n",
       "      <td>1</td>\n",
       "      <td>1</td>\n",
       "      <td>299850</td>\n",
       "    </tr>\n",
       "    <tr>\n",
       "      <th>2</th>\n",
       "      <td>1</td>\n",
       "      <td>2</td>\n",
       "      <td>299740</td>\n",
       "    </tr>\n",
       "    <tr>\n",
       "      <th>3</th>\n",
       "      <td>1</td>\n",
       "      <td>3</td>\n",
       "      <td>299900</td>\n",
       "    </tr>\n",
       "    <tr>\n",
       "      <th>4</th>\n",
       "      <td>1</td>\n",
       "      <td>4</td>\n",
       "      <td>300070</td>\n",
       "    </tr>\n",
       "    <tr>\n",
       "      <th>5</th>\n",
       "      <td>1</td>\n",
       "      <td>5</td>\n",
       "      <td>299930</td>\n",
       "    </tr>\n",
       "  </tbody>\n",
       "</table>\n",
       "</div>"
      ],
      "text/plain": [
       "   Expt  Run   Speed\n",
       "1     1    1  299850\n",
       "2     1    2  299740\n",
       "3     1    3  299900\n",
       "4     1    4  300070\n",
       "5     1    5  299930"
      ]
     },
     "execution_count": 6,
     "metadata": {},
     "output_type": "execute_result"
    }
   ],
   "source": [
    "michelson_speed_of_light.Speed = (michelson_speed_of_light.Speed+299000)\n",
    "michelson_speed_of_light.head()"
   ]
  },
  {
   "cell_type": "code",
   "execution_count": 7,
   "metadata": {},
   "outputs": [
    {
     "data": {
      "text/html": [
       "<div>\n",
       "<style scoped>\n",
       "    .dataframe tbody tr th:only-of-type {\n",
       "        vertical-align: middle;\n",
       "    }\n",
       "\n",
       "    .dataframe tbody tr th {\n",
       "        vertical-align: top;\n",
       "    }\n",
       "\n",
       "    .dataframe thead th {\n",
       "        text-align: right;\n",
       "    }\n",
       "</style>\n",
       "<table border=\"1\" class=\"dataframe\">\n",
       "  <thead>\n",
       "    <tr style=\"text-align: right;\">\n",
       "      <th></th>\n",
       "      <th>Expt</th>\n",
       "      <th>Run</th>\n",
       "      <th>Speed</th>\n",
       "    </tr>\n",
       "  </thead>\n",
       "  <tbody>\n",
       "    <tr>\n",
       "      <th>count</th>\n",
       "      <td>100.000000</td>\n",
       "      <td>100.000000</td>\n",
       "      <td>100.000000</td>\n",
       "    </tr>\n",
       "    <tr>\n",
       "      <th>mean</th>\n",
       "      <td>3.000000</td>\n",
       "      <td>10.500000</td>\n",
       "      <td>299852.400000</td>\n",
       "    </tr>\n",
       "    <tr>\n",
       "      <th>std</th>\n",
       "      <td>1.421338</td>\n",
       "      <td>5.795331</td>\n",
       "      <td>79.010548</td>\n",
       "    </tr>\n",
       "    <tr>\n",
       "      <th>min</th>\n",
       "      <td>1.000000</td>\n",
       "      <td>1.000000</td>\n",
       "      <td>299620.000000</td>\n",
       "    </tr>\n",
       "    <tr>\n",
       "      <th>25%</th>\n",
       "      <td>2.000000</td>\n",
       "      <td>5.750000</td>\n",
       "      <td>299807.500000</td>\n",
       "    </tr>\n",
       "    <tr>\n",
       "      <th>50%</th>\n",
       "      <td>3.000000</td>\n",
       "      <td>10.500000</td>\n",
       "      <td>299850.000000</td>\n",
       "    </tr>\n",
       "    <tr>\n",
       "      <th>75%</th>\n",
       "      <td>4.000000</td>\n",
       "      <td>15.250000</td>\n",
       "      <td>299892.500000</td>\n",
       "    </tr>\n",
       "    <tr>\n",
       "      <th>max</th>\n",
       "      <td>5.000000</td>\n",
       "      <td>20.000000</td>\n",
       "      <td>300070.000000</td>\n",
       "    </tr>\n",
       "  </tbody>\n",
       "</table>\n",
       "</div>"
      ],
      "text/plain": [
       "             Expt         Run          Speed\n",
       "count  100.000000  100.000000     100.000000\n",
       "mean     3.000000   10.500000  299852.400000\n",
       "std      1.421338    5.795331      79.010548\n",
       "min      1.000000    1.000000  299620.000000\n",
       "25%      2.000000    5.750000  299807.500000\n",
       "50%      3.000000   10.500000  299850.000000\n",
       "75%      4.000000   15.250000  299892.500000\n",
       "max      5.000000   20.000000  300070.000000"
      ]
     },
     "execution_count": 7,
     "metadata": {},
     "output_type": "execute_result"
    }
   ],
   "source": [
    "michelson_speed_of_light.describe()"
   ]
  },
  {
   "cell_type": "code",
   "execution_count": 8,
   "metadata": {},
   "outputs": [
    {
     "data": {
      "image/png": "[encoded data removed]",
      "text/plain": [
       "<Figure size 432x288 with 1 Axes>"
      ]
     },
     "metadata": {},
     "output_type": "display_data"
    }
   ],
   "source": [
    "michelson_speed_of_light.Speed.plot(marker = 'x')\n",
    "plt.title('LinePlot of Michelson Speed of light measurements, km/s')\n",
    "plt.show()"
   ]
  },
  {
   "cell_type": "code",
   "execution_count": 9,
   "metadata": {},
   "outputs": [
    {
     "data": {
      "image/png": "[encoded data removed]",
      "text/plain": [
       "<Figure size 432x288 with 1 Axes>"
      ]
     },
     "metadata": {},
     "output_type": "display_data"
    }
   ],
   "source": [
    "michelson_speed_of_light.Speed.hist()\n",
    "plt.title('Histogram of Michelson Speed of Light measurements Km/s')\n",
    "plt.show()"
   ]
  },
  {
   "cell_type": "code",
   "execution_count": 10,
   "metadata": {},
   "outputs": [],
   "source": [
    "def ecdf(data):\n",
    "    '''Compute (ECDF) \n",
    "    Empirical Cumulative Distribution Function \n",
    "    for a one-dimensional array of measurements.'''\n",
    "    # number of data points\n",
    "    n = len(data)\n",
    "    \n",
    "    # x-data for the ECDF: x\n",
    "    x = np.sort(data)\n",
    "    \n",
    "    # y-data for the ECDF: y\n",
    "    y = np.arange(1, n + 1) / n #just scaling y ticks from 0-1\n",
    "    \n",
    "    return x, y"
   ]
  },
  {
   "cell_type": "code",
   "execution_count": 11,
   "metadata": {},
   "outputs": [
    {
     "data": {
      "image/png": "[encoded data removed]",
      "text/plain": [
       "<Figure size 432x288 with 1 Axes>"
      ]
     },
     "metadata": {},
     "output_type": "display_data"
    }
   ],
   "source": [
    "# Compute the ECDF for the county level dem_share of swing states\n",
    "x, y = ecdf(michelson_speed_of_light.Speed)\n",
    "\n",
    "# Generate plot\n",
    "_ = plt.plot(x, y, #linestyle = 'none',\n",
    "            #alpha = 0.5, markeredgecolor = 'w' ,\n",
    "            #markeredgewidth = .8,\n",
    "            marker = 'o')\n",
    "\n",
    "# set margins\n",
    "plt.margins(0.02)\n",
    "\n",
    "# label the axes\n",
    "_ = plt.xlabel('Speed of Light Measuremnts (Km/s), Michelson')\n",
    "_ = plt.ylabel('ECDF')\n",
    "\n",
    "plt.show()"
   ]
  },
  {
   "cell_type": "markdown",
   "metadata": {},
   "source": [
    "## Checking Normality of Michelson data"
   ]
  },
  {
   "cell_type": "code",
   "execution_count": 12,
   "metadata": {},
   "outputs": [],
   "source": [
    "#compute mu and sigma of data\n",
    "mean = np.mean(michelson_speed_of_light.Speed)\n",
    "std = np.std(michelson_speed_of_light.Speed)\n",
    "\n",
    "# generate some normally distributed samples with mu and sigma\n",
    "# THEORETICAL CDF\n",
    "samples = np.random.normal(mean, std, size = 10000)"
   ]
  },
  {
   "cell_type": "code",
   "execution_count": 13,
   "metadata": {},
   "outputs": [
    {
     "data": {
      "image/png": "[encoded data removed]",
      "text/plain": [
       "<Figure size 432x288 with 1 Axes>"
      ]
     },
     "metadata": {},
     "output_type": "display_data"
    }
   ],
   "source": [
    "# Overlay the plots to see if the empirical and theoretical distributions align\n",
    "\n",
    "# plot the epirical data\n",
    "x, y = ecdf(michelson_speed_of_light.Speed)\n",
    "_ = plt.plot(x, y, #linestyle = 'none',\n",
    "            #alpha = 0.5, markeredgecolor = 'w' ,\n",
    "            #markeredgewidth = .8,\n",
    "            marker = 'o')\n",
    "# plot the theoretical data\n",
    "x, y = ecdf(samples)\n",
    "_ = plt.plot(x, y, \n",
    "            marker = 'x')\n",
    "\n",
    "# set margins\n",
    "plt.margins(0.02)\n",
    "\n",
    "# label the axes\n",
    "_ = plt.xlabel('Speed of Light Measuremnts (Km/s), Michelson')\n",
    "_ = plt.ylabel('ECDF')\n",
    "\n",
    "plt.show()\n",
    "# the units of the x axis are off, but this is just an excercise, so don't sweat it for now."
   ]
  },
  {
   "cell_type": "markdown",
   "metadata": {},
   "source": [
    "## CDF with bad estimate of st. dev. off by 50%"
   ]
  },
  {
   "cell_type": "code",
   "execution_count": 14,
   "metadata": {},
   "outputs": [],
   "source": [
    "#compute mu and BAD-SIGMA of data\n",
    "mean = np.mean(michelson_speed_of_light.Speed)\n",
    "std = np.std(michelson_speed_of_light.Speed)*(1.5)\n",
    "\n",
    "# generate some normally distributed samples with mu and sigma\n",
    "# THEORETICAL CDF\n",
    "samples = np.random.normal(mean, std, size = 10000)"
   ]
  },
  {
   "cell_type": "code",
   "execution_count": 15,
   "metadata": {},
   "outputs": [
    {
     "data": {
      "image/png": "[encoded data removed]",
      "text/plain": [
       "<Figure size 432x288 with 1 Axes>"
      ]
     },
     "metadata": {},
     "output_type": "display_data"
    }
   ],
   "source": [
    "# Overlay the plots to see if the empirical and theoretical distributions align\n",
    "\n",
    "# plot the epirical data\n",
    "x, y = ecdf(michelson_speed_of_light.Speed)\n",
    "_ = plt.plot(x, y, #linestyle = 'none',\n",
    "            #alpha = 0.5, markeredgecolor = 'w' ,\n",
    "            #markeredgewidth = .8,\n",
    "            marker = 'o')\n",
    "# plot the theoretical data\n",
    "x, y = ecdf(samples)\n",
    "_ = plt.plot(x, y, \n",
    "            marker = 'x')\n",
    "\n",
    "# set margins\n",
    "plt.margins(0.02)\n",
    "\n",
    "# label the axes\n",
    "_ = plt.xlabel('Speed of Light Measuremnts (Km/s), Michelson')\n",
    "_ = plt.ylabel('ECDF')\n",
    "\n",
    "plt.show()\n",
    "# the units of the x axis are off, but this is just an excercise, so don't sweat it for now."
   ]
  },
  {
   "cell_type": "markdown",
   "metadata": {},
   "source": [
    "## CDF with bad estimate of mean off by just .01%"
   ]
  },
  {
   "cell_type": "code",
   "execution_count": 16,
   "metadata": {},
   "outputs": [],
   "source": [
    "#compute mu at 99.9999% and normal sigma\n",
    "mean = np.mean(michelson_speed_of_light.Speed)*(1.0001)\n",
    "std = np.std(michelson_speed_of_light.Speed)\n",
    "\n",
    "# generate some normally distributed samples with mu and sigma\n",
    "# THEORETICAL CDF\n",
    "samples = np.random.normal(mean, std, size = 10000)"
   ]
  },
  {
   "cell_type": "code",
   "execution_count": 17,
   "metadata": {},
   "outputs": [
    {
     "data": {
      "image/png": "[encoded data removed]",
      "text/plain": [
       "<Figure size 432x288 with 1 Axes>"
      ]
     },
     "metadata": {},
     "output_type": "display_data"
    }
   ],
   "source": [
    "# Overlay the plots to see if the empirical and theoretical distributions align\n",
    "\n",
    "# plot the epirical data\n",
    "x, y = ecdf(michelson_speed_of_light.Speed)\n",
    "_ = plt.plot(x, y, #linestyle = 'none',\n",
    "            #alpha = 0.5, markeredgecolor = 'w' ,\n",
    "            #markeredgewidth = .8,\n",
    "            marker = 'o')\n",
    "# plot the theoretical data\n",
    "x, y = ecdf(samples)\n",
    "_ = plt.plot(x, y, \n",
    "            marker = 'x')\n",
    "\n",
    "# set margins\n",
    "plt.margins(0.02)\n",
    "\n",
    "# label the axes\n",
    "_ = plt.xlabel('Speed of Light Measuremnts (Km/s), Michelson')\n",
    "_ = plt.ylabel('ECDF')\n",
    "\n",
    "plt.show()\n"
   ]
  },
  {
   "cell_type": "markdown",
   "metadata": {},
   "source": [
    "## Optimal parameters\n",
    "- Parameter values that bring the model in closes agreement with the data\n",
    "- the parameters computed from the data\n",
    "\n",
    "**But! Optimal parameters with a bad model will still give bad results**\n",
    "\n",
    "### Packages to do statistical inference\n",
    "- scipy.stats\n",
    "- statsmodels\n",
    "- hacker stats with numpy"
   ]
  },
  {
   "cell_type": "markdown",
   "metadata": {},
   "source": [
    "## Example: Baseball No-hitters and Poisson process\n",
    "*Recall: Time between Poisson events is exponentially distribuyted*\n",
    "\n",
    "- The exponential distribution has a single parameter\n",
    "    - **tau** : typical interval time.\n",
    "    - tau for optimal fit = mean interval time where time is in units of number of games between no-hitters"
   ]
  },
  {
   "cell_type": "code",
   "execution_count": 18,
   "metadata": {},
   "outputs": [
    {
     "data": {
      "text/plain": [
       "numpy.ndarray"
      ]
     },
     "execution_count": 18,
     "metadata": {},
     "output_type": "execute_result"
    }
   ],
   "source": [
    "no_hitter_times = [ 843, 1613, 1101,  215,  684,  814,  278,  324,  161,  219,  545,\n",
    "        715,  966,  624,   29,  450,  107,   20,   91, 1325,  124, 1468,\n",
    "        104, 1309,  429,   62, 1878, 1104,  123,  251,   93,  188,  983,\n",
    "        166,   96,  702,   23,  524,   26,  299,   59,   39,   12,    2,\n",
    "        308, 1114,  813,  887,  645, 2088,   42, 2090,   11,  886, 1665,\n",
    "       1084, 2900, 2432,  750, 4021, 1070, 1765, 1322,   26,  548, 1525,\n",
    "         77, 2181, 2752,  127, 2147,  211,   41, 1575,  151,  479,  697,\n",
    "        557, 2267,  542,  392,   73,  603,  233,  255,  528,  397, 1529,\n",
    "       1023, 1194,  462,  583,   37,  943,  996,  480, 1497,  717,  224,\n",
    "        219, 1531,  498,   44,  288,  267,  600,   52,  269, 1086,  386,\n",
    "        176, 2199,  216,   54,  675, 1243,  463,  650,  171,  327,  110,\n",
    "        774,  509,    8,  197,  136,   12, 1124,   64,  380,  811,  232,\n",
    "        192,  731,  715,  226,  605,  539, 1491,  323,  240,  179,  702,\n",
    "        156,   82, 1397,  354,  778,  603, 1001,  385,  986,  203,  149,\n",
    "        576,  445,  180, 1403,  252,  675, 1351, 2983, 1568,   45,  899,\n",
    "       3260, 1025,   31,  100, 2055, 4043,   79,  238, 3931, 2351,  595,\n",
    "        110,  215,    0,  563,  206,  660,  242,  577,  179,  157,  192,\n",
    "        192, 1848,  792, 1693,   55,  388,  225, 1134, 1172, 1555,   31,\n",
    "       1582, 1044,  378, 1687, 2915,  280,  765, 2819,  511, 1521,  745,\n",
    "       2491,  580, 2072, 6450,  578,  745, 1075, 1103, 1549, 1520,  138,\n",
    "       1202,  296,  277,  351,  391,  950,  459,   62, 1056, 1128,  139,\n",
    "        420,   87,   71,  814,  603, 1349,  162, 1027,  783,  326,  101,\n",
    "        876,  381,  905,  156,  419,  239,  119,  129,  467]\n",
    "no_hitter_times = np.array(no_hitter_times)\n",
    "type(no_hitter_times)"
   ]
  },
  {
   "cell_type": "code",
   "execution_count": 19,
   "metadata": {},
   "outputs": [
    {
     "name": "stderr",
     "output_type": "stream",
     "text": [
      "/Users/paulomartinez/anaconda3/lib/python3.6/site-packages/matplotlib/axes/_axes.py:6462: UserWarning: The 'normed' kwarg is deprecated, and has been replaced by the 'density' kwarg.\n",
      "  warnings.warn(\"The 'normed' kwarg is deprecated, and has been \"\n"
     ]
    },
    {
     "data": {
      "image/png": "[encoded data removed]",
      "text/plain": [
       "<Figure size 432x288 with 1 Axes>"
      ]
     },
     "metadata": {},
     "output_type": "display_data"
    }
   ],
   "source": [
    "# Seed random number generator\n",
    "np.random.seed(42)\n",
    "\n",
    "# Compute mean no-hitter time: tau\n",
    "tau = np.mean(no_hitter_times)\n",
    "\n",
    "# Draw out of an exponential distribution with parameter tau: inter_nohitter_time\n",
    "inter_nohitter_time = np.random.exponential(tau, 100000)\n",
    "\n",
    "# Plot the PDF and label axes\n",
    "_ = plt.hist(inter_nohitter_time,\n",
    "             bins=50, normed=True, histtype='step')\n",
    "_ = plt.xlabel('Games between no-hitters')\n",
    "_ = plt.ylabel('PDF')\n",
    "_ = plt.title('Theoretical distribution based on empirical tau')\n",
    "\n",
    "# Show the plot\n",
    "plt.show()\n"
   ]
  },
  {
   "cell_type": "code",
   "execution_count": 106,
   "metadata": {},
   "outputs": [
    {
     "data": {
      "image/png": "[encoded data removed]",
      "text/plain": [
       "<Figure size 432x288 with 1 Axes>"
      ]
     },
     "metadata": {},
     "output_type": "display_data"
    }
   ],
   "source": [
    "# Create an ECDF from real data: x, y\n",
    "x, y = ecdf(no_hitter_times)\n",
    "\n",
    "# Create a CDF from theoretical samples: x_theor, y_theor\n",
    "x_theor, y_theor = ecdf(inter_nohitter_time)\n",
    "\n",
    "# Overlay the plots\n",
    "plt.plot(x_theor, y_theor)\n",
    "plt.plot(x, y, marker='.', linestyle='none')\n",
    "\n",
    "# Margins and axis labels\n",
    "plt.margins(0.02)\n",
    "plt.xlabel('Games between no-hitters')\n",
    "plt.ylabel('CDF')\n",
    "\n",
    "plt.title('Empirical and Theoreticlal CDFS')\n",
    "plt.legend(['Theoretical', 'Empirical'])\n",
    "\n",
    "# Show the plot\n",
    "plt.show()\n"
   ]
  },
  {
   "cell_type": "markdown",
   "metadata": {},
   "source": [
    "### fudge tau to see the effect"
   ]
  },
  {
   "cell_type": "code",
   "execution_count": 21,
   "metadata": {},
   "outputs": [
    {
     "data": {
      "image/png": "[encoded data removed]",
      "text/plain": [
       "<Figure size 432x288 with 1 Axes>"
      ]
     },
     "metadata": {},
     "output_type": "display_data"
    }
   ],
   "source": [
    "# Plot the theoretical CDFs\n",
    "plt.plot(x_theor, y_theor)\n",
    "plt.plot(x, y, marker='.', linestyle='none')\n",
    "plt.margins(0.02)\n",
    "plt.xlabel('Games between no-hitters')\n",
    "plt.ylabel('CDF')\n",
    "\n",
    "# Take samples with half tau: samples_half\n",
    "samples_half = np.random.exponential(tau/2, 10000)\n",
    "\n",
    "# Take samples with double tau: samples_double\n",
    "samples_double = np.random.exponential(2*tau, 10000)\n",
    "\n",
    "# Generate CDFs from these samples\n",
    "x_half, y_half = ecdf(samples_half)\n",
    "x_double, y_double = ecdf(samples_double)\n",
    "\n",
    "# Plot these CDFs as lines\n",
    "_ = plt.plot(x_half, y_half)\n",
    "_ = plt.plot(x_double, y_double)\n",
    "\n",
    "# Show the plot\n",
    "plt.title('aberrant tau parameters')\n",
    "plt.show()"
   ]
  },
  {
   "cell_type": "markdown",
   "metadata": {},
   "source": [
    "## Linear regression by least squares\n",
    "Recall the Pearson Correlation Coefficient\n",
    "- often time a linear function is appropriate\n",
    "- parameters:\n",
    "    - slope\n",
    "    - intercept\n",
    "\n",
    "**Optimizing the parameters**\n",
    "- residual is the delta y between a data point and the regression line\n",
    "\n",
    "Leas squares with `np.polyfit()`\n",
    "- computational algorithm to do the number crunching for us\n"
   ]
  },
  {
   "cell_type": "code",
   "execution_count": 22,
   "metadata": {},
   "outputs": [],
   "source": [
    "#slope, intercept = np.polyfit(total_votes, dem_share, 1)#1 for degree"
   ]
  },
  {
   "cell_type": "code",
   "execution_count": 23,
   "metadata": {},
   "outputs": [],
   "source": [
    "illiteracy = np.array([ 9.5, 49.2,  1. , 11.2,  9.8, 60. , 50.2, 51.2,  0.6,  1. ,  8.5,\n",
    "        6.1,  9.8,  1. , 42.2, 77.2, 18.7, 22.8,  8.5, 43.9,  1. ,  1. ,\n",
    "        1.5, 10.8, 11.9,  3.4,  0.4,  3.1,  6.6, 33.7, 40.4,  2.3, 17.2,\n",
    "        0.7, 36.1,  1. , 33.2, 55.9, 30.8, 87.4, 15.4, 54.6,  5.1,  1.1,\n",
    "       10.2, 19.8,  0. , 40.7, 57.2, 59.9,  3.1, 55.7, 22.8, 10.9, 34.7,\n",
    "       32.2, 43. ,  1.3,  1. ,  0.5, 78.4, 34.2, 84.9, 29.1, 31.3, 18.3,\n",
    "       81.8, 39. , 11.2, 67. ,  4.1,  0.2, 78.1,  1. ,  7.1,  1. , 29. ,\n",
    "        1.1, 11.7, 73.6, 33.9, 14. ,  0.3,  1. ,  0.8, 71.9, 40.1,  1. ,\n",
    "        2.1,  3.8, 16.5,  4.1,  0.5, 44.4, 46.3, 18.7,  6.5, 36.8, 18.6,\n",
    "       11.1, 22.1, 71.1,  1. ,  0. ,  0.9,  0.7, 45.5,  8.4,  0. ,  3.8,\n",
    "        8.5,  2. ,  1. , 58.9,  0.3,  1. , 14. , 47. ,  4.1,  2.2,  7.2,\n",
    "        0.3,  1.5, 50.5,  1.3,  0.6, 19.1,  6.9,  9.2,  2.2,  0.2, 12.3,\n",
    "        4.9,  4.6,  0.3, 16.5, 65.7, 63.5, 16.8,  0.2,  1.8,  9.6, 15.2,\n",
    "       14.4,  3.3, 10.6, 61.3, 10.9, 32.2,  9.3, 11.6, 20.7,  6.5,  6.7,\n",
    "        3.5,  1. ,  1.6, 20.5,  1.5, 16.7,  2. ,  0.9])\n",
    "fertility = np.array([1.769, 2.682, 2.077, 2.132, 1.827, 3.872, 2.288, 5.173, 1.393,\n",
    "       1.262, 2.156, 3.026, 2.033, 1.324, 2.816, 5.211, 2.1  , 1.781,\n",
    "       1.822, 5.908, 1.881, 1.852, 1.39 , 2.281, 2.505, 1.224, 1.361,\n",
    "       1.468, 2.404, 5.52 , 4.058, 2.223, 4.859, 1.267, 2.342, 1.579,\n",
    "       6.254, 2.334, 3.961, 6.505, 2.53 , 2.823, 2.498, 2.248, 2.508,\n",
    "       3.04 , 1.854, 4.22 , 5.1  , 4.967, 1.325, 4.514, 3.173, 2.308,\n",
    "       4.62 , 4.541, 5.637, 1.926, 1.747, 2.294, 5.841, 5.455, 7.069,\n",
    "       2.859, 4.018, 2.513, 5.405, 5.737, 3.363, 4.89 , 1.385, 1.505,\n",
    "       6.081, 1.784, 1.378, 1.45 , 1.841, 1.37 , 2.612, 5.329, 5.33 ,\n",
    "       3.371, 1.281, 1.871, 2.153, 5.378, 4.45 , 1.46 , 1.436, 1.612,\n",
    "       3.19 , 2.752, 3.35 , 4.01 , 4.166, 2.642, 2.977, 3.415, 2.295,\n",
    "       3.019, 2.683, 5.165, 1.849, 1.836, 2.518, 2.43 , 4.528, 1.263,\n",
    "       1.885, 1.943, 1.899, 1.442, 1.953, 4.697, 1.582, 2.025, 1.841,\n",
    "       5.011, 1.212, 1.502, 2.516, 1.367, 2.089, 4.388, 1.854, 1.748,\n",
    "       2.978, 2.152, 2.362, 1.988, 1.426, 3.29 , 3.264, 1.436, 1.393,\n",
    "       2.822, 4.969, 5.659, 3.24 , 1.693, 1.647, 2.36 , 1.792, 3.45 ,\n",
    "       1.516, 2.233, 2.563, 5.283, 3.885, 0.966, 2.373, 2.663, 1.251,\n",
    "       2.052, 3.371, 2.093, 2.   , 3.883, 3.852, 3.718, 1.732, 3.928])"
   ]
  },
  {
   "cell_type": "code",
   "execution_count": 24,
   "metadata": {},
   "outputs": [],
   "source": [
    "#Computing the Pearson correlation coefficient\n",
    "def pearson_r(x,y):\n",
    "    \"\"\"Compute Pearson correlation coefficient between \n",
    "    two arrayws.\"\"\"\n",
    "    # Compute correlation matrix : corr_mat\n",
    "    corr_mat = np.corrcoef(x, y)\n",
    "    # Return entry [0,1]\n",
    "    return corr_mat[0,1]"
   ]
  },
  {
   "cell_type": "code",
   "execution_count": 25,
   "metadata": {},
   "outputs": [
    {
     "data": {
      "image/png": "[encoded data removed]",
      "text/plain": [
       "<Figure size 432x288 with 1 Axes>"
      ]
     },
     "metadata": {},
     "output_type": "display_data"
    },
    {
     "name": "stdout",
     "output_type": "stream",
     "text": [
      "0.8041324026815341\n"
     ]
    }
   ],
   "source": [
    "# Plot the illiteracy rate versus fertility\n",
    "_ = plt.plot(illiteracy, fertility, marker='.', linestyle='none')\n",
    "\n",
    "# Set the margins and label axes\n",
    "plt.margins(0.02)\n",
    "_ = plt.xlabel('percent illiterate')\n",
    "_ = plt.ylabel('fertility')\n",
    "\n",
    "# Show the plot\n",
    "plt.show()\n",
    "\n",
    "# Show the Pearson correlation coefficient\n",
    "print(pearson_r(illiteracy, fertility))\n"
   ]
  },
  {
   "cell_type": "markdown",
   "metadata": {},
   "source": [
    "Assume fertility is a linear function of the female literacy rate. That is , f = ai + b"
   ]
  },
  {
   "cell_type": "code",
   "execution_count": 26,
   "metadata": {},
   "outputs": [
    {
     "name": "stdout",
     "output_type": "stream",
     "text": [
      "slope = 0.04979854809063423 children per woman / percent illiterate\n",
      "intercept = 1.888050610636557 children per woman\n"
     ]
    },
    {
     "data": {
      "image/png": "[encoded data removed]",
      "text/plain": [
       "<Figure size 432x288 with 1 Axes>"
      ]
     },
     "metadata": {},
     "output_type": "display_data"
    }
   ],
   "source": [
    "# Plot the illiteracy rate versus fertility\n",
    "_ = plt.plot(illiteracy, fertility, marker='.', linestyle='none')\n",
    "plt.margins(0.02)\n",
    "_ = plt.xlabel('percent illiterate')\n",
    "_ = plt.ylabel('fertility')\n",
    "\n",
    "# Perform a linear regression using np.polyfit(): a, b\n",
    "a, b = np.polyfit(illiteracy, fertility, 1) #degree 1 \"polynomial\"\n",
    "\n",
    "# Print the results to the screen\n",
    "print('slope =', a, 'children per woman / percent illiterate')\n",
    "print('intercept =', b, 'children per woman')\n",
    "\n",
    "# Make theoretical line to plot\n",
    "x = np.array([0, 100])\n",
    "y = a * x + b\n",
    "\n",
    "# Add regression line to your plot\n",
    "_ = plt.plot(x, y)\n",
    "\n",
    "# Draw the plot\n",
    "plt.show()\n"
   ]
  },
  {
   "cell_type": "markdown",
   "metadata": {},
   "source": [
    "### Plotting the function that is being optimized\n",
    "The RSS, versus the slope parameter a"
   ]
  },
  {
   "cell_type": "code",
   "execution_count": 27,
   "metadata": {},
   "outputs": [
    {
     "data": {
      "image/png": "[encoded data removed]",
      "text/plain": [
       "<Figure size 432x288 with 1 Axes>"
      ]
     },
     "metadata": {},
     "output_type": "display_data"
    }
   ],
   "source": [
    "# Specify slopes to consider: a_vals\n",
    "a_vals = np.linspace(0, 0.1, 200)\n",
    "\n",
    "# Initialize sum of square of residuals: rss\n",
    "rss = np.empty_like(a_vals)\n",
    "\n",
    "# Compute sum of square of residuals for each value of a_vals\n",
    "for i, a in enumerate(a_vals):\n",
    "    rss[i] = np.sum((fertility - a*illiteracy - b)**2)\n",
    "\n",
    "# Plot the RSS\n",
    "plt.plot(a_vals, rss, '-')\n",
    "plt.xlabel('slope (children per woman / percent illiterate)')\n",
    "plt.ylabel('sum of square of residuals')\n",
    "\n",
    "plt.title('RSS v Model-slope-parameter')\n",
    "plt.show()\n",
    "\n",
    "#note that the sum of squared residuals is minimized around 0.05"
   ]
  },
  {
   "cell_type": "markdown",
   "metadata": {},
   "source": [
    "## The importance of EDA: Anscombe's quartet\n",
    "They all have the same:\n",
    "- mean x\n",
    "- mean y\n",
    "- linear regression\n",
    "- sum sq residuals"
   ]
  },
  {
   "cell_type": "code",
   "execution_count": 28,
   "metadata": {},
   "outputs": [
    {
     "data": {
      "text/plain": [
       "<seaborn.axisgrid.FacetGrid at 0x1a1c9e75f8>"
      ]
     },
     "execution_count": 28,
     "metadata": {},
     "output_type": "execute_result"
    },
    {
     "data": {
      "image/png": "[encoded data removed]",
      "text/plain": [
       "<Figure size 576x576 with 4 Axes>"
      ]
     },
     "metadata": {},
     "output_type": "display_data"
    }
   ],
   "source": [
    "# Load the example dataset for Anscombe's quartet\n",
    "df = sns.load_dataset(\"anscombe\")\n",
    "\n",
    "# Show the results of a linear regression within each dataset\n",
    "sns.lmplot(x=\"x\", y=\"y\", col=\"dataset\", hue=\"dataset\", data=df,\n",
    "           col_wrap=2, ci=None, palette=\"muted\", size=4,\n",
    "           scatter_kws={\"s\": 50, \"alpha\": 1})"
   ]
  },
  {
   "cell_type": "code",
   "execution_count": 29,
   "metadata": {},
   "outputs": [
    {
     "data": {
      "text/html": [
       "<div>\n",
       "<style scoped>\n",
       "    .dataframe tbody tr th:only-of-type {\n",
       "        vertical-align: middle;\n",
       "    }\n",
       "\n",
       "    .dataframe tbody tr th {\n",
       "        vertical-align: top;\n",
       "    }\n",
       "\n",
       "    .dataframe thead th {\n",
       "        text-align: right;\n",
       "    }\n",
       "</style>\n",
       "<table border=\"1\" class=\"dataframe\">\n",
       "  <thead>\n",
       "    <tr style=\"text-align: right;\">\n",
       "      <th></th>\n",
       "      <th>dataset</th>\n",
       "      <th>x</th>\n",
       "      <th>y</th>\n",
       "    </tr>\n",
       "  </thead>\n",
       "  <tbody>\n",
       "    <tr>\n",
       "      <th>0</th>\n",
       "      <td>I</td>\n",
       "      <td>10.0</td>\n",
       "      <td>8.04</td>\n",
       "    </tr>\n",
       "    <tr>\n",
       "      <th>1</th>\n",
       "      <td>I</td>\n",
       "      <td>8.0</td>\n",
       "      <td>6.95</td>\n",
       "    </tr>\n",
       "    <tr>\n",
       "      <th>2</th>\n",
       "      <td>I</td>\n",
       "      <td>13.0</td>\n",
       "      <td>7.58</td>\n",
       "    </tr>\n",
       "    <tr>\n",
       "      <th>3</th>\n",
       "      <td>I</td>\n",
       "      <td>9.0</td>\n",
       "      <td>8.81</td>\n",
       "    </tr>\n",
       "    <tr>\n",
       "      <th>4</th>\n",
       "      <td>I</td>\n",
       "      <td>11.0</td>\n",
       "      <td>8.33</td>\n",
       "    </tr>\n",
       "  </tbody>\n",
       "</table>\n",
       "</div>"
      ],
      "text/plain": [
       "  dataset     x     y\n",
       "0       I  10.0  8.04\n",
       "1       I   8.0  6.95\n",
       "2       I  13.0  7.58\n",
       "3       I   9.0  8.81\n",
       "4       I  11.0  8.33"
      ]
     },
     "execution_count": 29,
     "metadata": {},
     "output_type": "execute_result"
    }
   ],
   "source": [
    "df.head()"
   ]
  },
  {
   "cell_type": "code",
   "execution_count": 30,
   "metadata": {},
   "outputs": [
    {
     "name": "stdout",
     "output_type": "stream",
     "text": [
      "<class 'pandas.core.frame.DataFrame'>\n",
      "RangeIndex: 44 entries, 0 to 43\n",
      "Data columns (total 3 columns):\n",
      "dataset    44 non-null object\n",
      "x          44 non-null float64\n",
      "y          44 non-null float64\n",
      "dtypes: float64(2), object(1)\n",
      "memory usage: 1.1+ KB\n"
     ]
    }
   ],
   "source": [
    "df.info()"
   ]
  },
  {
   "cell_type": "code",
   "execution_count": 31,
   "metadata": {},
   "outputs": [
    {
     "data": {
      "text/html": [
       "<div>\n",
       "<style scoped>\n",
       "    .dataframe tbody tr th:only-of-type {\n",
       "        vertical-align: middle;\n",
       "    }\n",
       "\n",
       "    .dataframe tbody tr th {\n",
       "        vertical-align: top;\n",
       "    }\n",
       "\n",
       "    .dataframe thead th {\n",
       "        text-align: right;\n",
       "    }\n",
       "</style>\n",
       "<table border=\"1\" class=\"dataframe\">\n",
       "  <thead>\n",
       "    <tr style=\"text-align: right;\">\n",
       "      <th></th>\n",
       "      <th>x</th>\n",
       "      <th>y</th>\n",
       "    </tr>\n",
       "  </thead>\n",
       "  <tbody>\n",
       "    <tr>\n",
       "      <th>count</th>\n",
       "      <td>44.000000</td>\n",
       "      <td>44.000000</td>\n",
       "    </tr>\n",
       "    <tr>\n",
       "      <th>mean</th>\n",
       "      <td>9.000000</td>\n",
       "      <td>7.500682</td>\n",
       "    </tr>\n",
       "    <tr>\n",
       "      <th>std</th>\n",
       "      <td>3.198837</td>\n",
       "      <td>1.958925</td>\n",
       "    </tr>\n",
       "    <tr>\n",
       "      <th>min</th>\n",
       "      <td>4.000000</td>\n",
       "      <td>3.100000</td>\n",
       "    </tr>\n",
       "    <tr>\n",
       "      <th>25%</th>\n",
       "      <td>7.000000</td>\n",
       "      <td>6.117500</td>\n",
       "    </tr>\n",
       "    <tr>\n",
       "      <th>50%</th>\n",
       "      <td>8.000000</td>\n",
       "      <td>7.520000</td>\n",
       "    </tr>\n",
       "    <tr>\n",
       "      <th>75%</th>\n",
       "      <td>11.000000</td>\n",
       "      <td>8.747500</td>\n",
       "    </tr>\n",
       "    <tr>\n",
       "      <th>max</th>\n",
       "      <td>19.000000</td>\n",
       "      <td>12.740000</td>\n",
       "    </tr>\n",
       "  </tbody>\n",
       "</table>\n",
       "</div>"
      ],
      "text/plain": [
       "               x          y\n",
       "count  44.000000  44.000000\n",
       "mean    9.000000   7.500682\n",
       "std     3.198837   1.958925\n",
       "min     4.000000   3.100000\n",
       "25%     7.000000   6.117500\n",
       "50%     8.000000   7.520000\n",
       "75%    11.000000   8.747500\n",
       "max    19.000000  12.740000"
      ]
     },
     "execution_count": 31,
     "metadata": {},
     "output_type": "execute_result"
    }
   ],
   "source": [
    "df.describe()"
   ]
  },
  {
   "cell_type": "code",
   "execution_count": 32,
   "metadata": {},
   "outputs": [
    {
     "name": "stdout",
     "output_type": "stream",
     "text": [
      "0.5000909090909095 3.0000909090909076\n"
     ]
    },
    {
     "data": {
      "image/png": "[encoded data removed]",
      "text/plain": [
       "<Figure size 432x288 with 1 Axes>"
      ]
     },
     "metadata": {},
     "output_type": "display_data"
    }
   ],
   "source": [
    "# Perform linear regression: a, b\n",
    "a, b = np.polyfit(df[df.dataset == 'I'].x, df[df.dataset == 'I'].y, 1)\n",
    "\n",
    "# Print the slope and intercept\n",
    "print(a, b)\n",
    "\n",
    "# Generate theoretical x and y data: x_theor, y_theor\n",
    "x_theor = np.array([3, 15])\n",
    "y_theor = a * x_theor + b\n",
    "\n",
    "# Plot the Anscombe data and theoretical line\n",
    "_ = plt.plot(df[df.dataset == 'I'].x, df[df.dataset == 'I'].y,\n",
    "             marker='.', linestyle='none')\n",
    "_ = plt.plot(x_theor, y_theor)\n",
    "\n",
    "# Label the axes\n",
    "plt.xlabel('x')\n",
    "plt.ylabel('y')\n",
    "\n",
    "# Show the plot\n",
    "plt.show()\n"
   ]
  },
  {
   "cell_type": "code",
   "execution_count": 33,
   "metadata": {},
   "outputs": [],
   "source": [
    "x1 = df[df.dataset == 'I'][['x', 'y']]\n",
    "x2 = df[df.dataset == 'II'][['x', 'y']]\n",
    "#x3 = "
   ]
  },
  {
   "cell_type": "code",
   "execution_count": 34,
   "metadata": {},
   "outputs": [
    {
     "name": "stdout",
     "output_type": "stream",
     "text": [
      "modeled parameters of dataset: IV\n",
      "slope: 0.49990909090909064 intercept: 3.0017272727272735\n",
      "\n",
      "modeled parameters of dataset: III\n",
      "slope: 0.4997272727272731 intercept: 3.0024545454545453\n",
      "\n",
      "modeled parameters of dataset: I\n",
      "slope: 0.5000909090909095 intercept: 3.0000909090909076\n",
      "\n",
      "modeled parameters of dataset: II\n",
      "slope: 0.5000000000000004 intercept: 3.000909090909089\n",
      "\n"
     ]
    }
   ],
   "source": [
    "# iterate through the datasets\n",
    "for ds in set(df.dataset):\n",
    "    # Perform linear regression: a, b\n",
    "    a, b = np.polyfit(df[df.dataset == ds].x, df[df.dataset == ds].y, 1)\n",
    "\n",
    "    # Print the result\n",
    "    print('modeled parameters of dataset:', ds)\n",
    "    print('slope:', a, 'intercept:', b)\n",
    "    print('')"
   ]
  },
  {
   "cell_type": "markdown",
   "metadata": {},
   "source": [
    "# Chp. 2 Generating bootstrap replicates\n",
    "\n",
    "Thinking probabilistically\n",
    "- generalizeability of results\n",
    "- repeating an experiment may not be possible\n",
    "*But!* We can simulate getting the data again.\n",
    "- resample the data we have\n",
    "- recompute the summary statistic of interest (i.e. the mean)\n",
    "    - randomly select one measurement\n",
    "    - randomly select n measurements and store them\n",
    "        - now we have a resampled array of data\n",
    "        - compute the summary statistic on the sample and store the result\n",
    "        - iterate the sampling process repeatedly to simulate getting a new set of measurements\n",
    "        \n",
    "## Bootstraping\n",
    "- use of resampled data to perform statistical inference\n",
    "- each resampled array of the data is a **bootstrap sample**\n",
    "    - a boostrap replicate summary statistic is computed from the bootstrap sample\n",
    "        - note that the max number of unique bootstrap samples possible is n^n (since repeted values ara \"allowed\") and the max mean = max of the original array. \n",
    "            - (in the edge case where you have n repetitions of n.max()\n",
    "    \n",
    "Let's try it with the michelson data\n"
   ]
  },
  {
   "cell_type": "code",
   "execution_count": 35,
   "metadata": {},
   "outputs": [
    {
     "data": {
      "text/plain": [
       "array([4, 5, 4])"
      ]
     },
     "execution_count": 35,
     "metadata": {},
     "output_type": "execute_result"
    }
   ],
   "source": [
    "# random choice snippet\n",
    "np.random.choice([1,2,3,4,5], size = 3)"
   ]
  },
  {
   "cell_type": "code",
   "execution_count": 36,
   "metadata": {},
   "outputs": [
    {
     "data": {
      "text/plain": [
       "count       100.000000\n",
       "mean     299852.400000\n",
       "std          79.010548\n",
       "min      299620.000000\n",
       "25%      299807.500000\n",
       "50%      299850.000000\n",
       "75%      299892.500000\n",
       "max      300070.000000\n",
       "Name: Speed, dtype: float64"
      ]
     },
     "execution_count": 36,
     "metadata": {},
     "output_type": "execute_result"
    }
   ],
   "source": [
    "michelson_speed_of_light.Speed.describe()"
   ]
  },
  {
   "cell_type": "code",
   "execution_count": 37,
   "metadata": {},
   "outputs": [],
   "source": [
    "# bootstrap samples from michelson data\n",
    "bs_sample = np.random.choice(michelson_speed_of_light.Speed, size = 100)"
   ]
  },
  {
   "cell_type": "code",
   "execution_count": 38,
   "metadata": {},
   "outputs": [
    {
     "data": {
      "text/plain": [
       "299857.6"
      ]
     },
     "execution_count": 38,
     "metadata": {},
     "output_type": "execute_result"
    }
   ],
   "source": [
    "np.mean(bs_sample)"
   ]
  },
  {
   "cell_type": "code",
   "execution_count": 39,
   "metadata": {},
   "outputs": [
    {
     "data": {
      "text/plain": [
       "299860.0"
      ]
     },
     "execution_count": 39,
     "metadata": {},
     "output_type": "execute_result"
    }
   ],
   "source": [
    "np.median(bs_sample)"
   ]
  },
  {
   "cell_type": "code",
   "execution_count": 40,
   "metadata": {},
   "outputs": [
    {
     "data": {
      "text/plain": [
       "76.17243595947289"
      ]
     },
     "execution_count": 40,
     "metadata": {},
     "output_type": "execute_result"
    }
   ],
   "source": [
    "np.std(bs_sample)"
   ]
  },
  {
   "cell_type": "code",
   "execution_count": 41,
   "metadata": {},
   "outputs": [
    {
     "name": "stdout",
     "output_type": "stream",
     "text": [
      "133\n"
     ]
    }
   ],
   "source": [
    "# data camp array for set of annual rainfall data measured at the Sheffield Weather Station in the UK from 1883 to 2015\n",
    "rainfall = [ 875.5,  648.2,  788.1,  940.3,  491.1,  743.5,  730.1,  686.5,\n",
    "        878.8,  865.6,  654.9,  831.5,  798.1,  681.8,  743.8,  689.1,\n",
    "        752.1,  837.2,  710.6,  749.2,  967.1,  701.2,  619. ,  747.6,\n",
    "        803.4,  645.6,  804.1,  787.4,  646.8,  997.1,  774. ,  734.5,\n",
    "        835. ,  840.7,  659.6,  828.3,  909.7,  856.9,  578.3,  904.2,\n",
    "        883.9,  740.1,  773.9,  741.4,  866.8,  871.1,  712.5,  919.2,\n",
    "        927.9,  809.4,  633.8,  626.8,  871.3,  774.3,  898.8,  789.6,\n",
    "        936.3,  765.4,  882.1,  681.1,  661.3,  847.9,  683.9,  985.7,\n",
    "        771.1,  736.6,  713.2,  774.5,  937.7,  694.5,  598.2,  983.8,\n",
    "        700.2,  901.3,  733.5,  964.4,  609.3, 1035.2,  718. ,  688.6,\n",
    "        736.8,  643.3, 1038.5,  969. ,  802.7,  876.6,  944.7,  786.6,\n",
    "        770.4,  808.6,  761.3,  774.2,  559.3,  674.2,  883.6,  823.9,\n",
    "        960.4,  877.8,  940.6,  831.8,  906.2,  866.5,  674.1,  998.1,\n",
    "        789.3,  915. ,  737.1,  763. ,  666.7,  824.5,  913.8,  905.1,\n",
    "        667.8,  747.4,  784.7,  925.4,  880.2, 1086.9,  764.4, 1050.1,\n",
    "        595.2,  855.2,  726.9,  785.2,  948.8,  970.6,  896. ,  618.4,\n",
    "        572.4, 1146.4,  728.2,  864.2,  793. ]\n",
    "print(len(rainfall))"
   ]
  },
  {
   "cell_type": "code",
   "execution_count": 42,
   "metadata": {},
   "outputs": [
    {
     "data": {
      "image/png": "[encoded data removed]",
      "text/plain": [
       "<Figure size 432x288 with 1 Axes>"
      ]
     },
     "metadata": {},
     "output_type": "display_data"
    }
   ],
   "source": [
    "for i in range(50):\n",
    "    # Generate bootstrap sample: bs_sample\n",
    "    bs_sample = np.random.choice(rainfall, size=len(rainfall))\n",
    "\n",
    "    # Compute and plot ECDF from bootstrap sample\n",
    "    x, y = ecdf(bs_sample)\n",
    "    _ = plt.plot(x, y, marker='.', linestyle='none',\n",
    "                 color='gray', alpha=0.1)\n",
    "\n",
    "# Compute and plot ECDF from original data\n",
    "x, y = ecdf(rainfall)\n",
    "_ = plt.plot(x, y, marker='.')\n",
    "\n",
    "# Make margins and label axes\n",
    "plt.margins(0.02)\n",
    "_ = plt.xlabel('yearly rainfall (mm)')\n",
    "_ = plt.ylabel('ECDF')\n",
    "\n",
    "# Show the plot\n",
    "plt.show()\n"
   ]
  },
  {
   "cell_type": "markdown",
   "metadata": {},
   "source": [
    "## Bootstrap confidence intervals"
   ]
  },
  {
   "cell_type": "code",
   "execution_count": 43,
   "metadata": {},
   "outputs": [],
   "source": [
    "# bootstrap replicate function\n",
    "def bootstrap_replicate_1d(data, func):\n",
    "    '''Generate bootstrap replicate of one-dimensional data.'''\n",
    "    bs_sample = np.random.choice(data, len(data))\n",
    "    return func(bs_sample) #return the statistic of interest on the bootstraped replicate"
   ]
  },
  {
   "cell_type": "code",
   "execution_count": 44,
   "metadata": {},
   "outputs": [
    {
     "data": {
      "text/plain": [
       "299859.1"
      ]
     },
     "execution_count": 44,
     "metadata": {},
     "output_type": "execute_result"
    }
   ],
   "source": [
    "bootstrap_replicate_1d(michelson_speed_of_light.Speed, np.mean)"
   ]
  },
  {
   "cell_type": "markdown",
   "metadata": {},
   "source": [
    "## Many bootstrap replicates"
   ]
  },
  {
   "cell_type": "code",
   "execution_count": 45,
   "metadata": {},
   "outputs": [],
   "source": [
    "# we'll make 10,000 bootstrap replicates\n",
    "\n",
    "# initialize empty array\n",
    "bs_replicates = np.empty(10000)\n",
    "\n",
    "for i in range(10000):\n",
    "    bs_replicates[i] = bootstrap_replicate_1d(michelson_speed_of_light.Speed, np.mean)"
   ]
  },
  {
   "cell_type": "code",
   "execution_count": 46,
   "metadata": {},
   "outputs": [
    {
     "name": "stderr",
     "output_type": "stream",
     "text": [
      "/Users/paulomartinez/anaconda3/lib/python3.6/site-packages/matplotlib/axes/_axes.py:6462: UserWarning: The 'normed' kwarg is deprecated, and has been replaced by the 'density' kwarg.\n",
      "  warnings.warn(\"The 'normed' kwarg is deprecated, and has been \"\n"
     ]
    },
    {
     "data": {
      "image/png": "[encoded data removed]",
      "text/plain": [
       "<Figure size 432x288 with 1 Axes>"
      ]
     },
     "metadata": {},
     "output_type": "display_data"
    }
   ],
   "source": [
    "plt.hist(bs_replicates, bins = 30, normed = True) #normed = True sets the height so that the total area of the bars is = 1\n",
    "# we do it so the histogram approximates a probability density function\n",
    "# area under the curve being the probability of such a pdf\n",
    "\n",
    "plt.xlabel('mean speed of light (km/s)')\n",
    "plt.ylabel('PDF')\n",
    "plt.show()"
   ]
  },
  {
   "cell_type": "markdown",
   "metadata": {},
   "source": [
    "We have computed the aprox PDF of the mean speed of light we would expect to get if we performed the measurements again.\n",
    "Now we're thingking probabilistically\n",
    "- if we repeated the experiments we would expect to see the mean only vary by the std\n",
    "\n",
    "### Confidence interval of a statistic\n",
    "- if we repeated measurements over and over again, *p%* of the observed values would lie within the *p%* confidence interval. \n",
    "    - in our case, 95% of the means would lie within the 95% confidence interval\n",
    "    - by doing bootstrap replicates we just *repeated* the experiment over and over again"
   ]
  },
  {
   "cell_type": "code",
   "execution_count": 47,
   "metadata": {},
   "outputs": [],
   "source": [
    "conf_int = np.percentile(bs_replicates, [2.4, 97.5])\n",
    "# 2.5th and 97.5th percentiles to get the 95th confidence interval\n",
    "    # this means the model is 95% confident the mean is within the range of the two values generated in the array"
   ]
  },
  {
   "cell_type": "code",
   "execution_count": 48,
   "metadata": {},
   "outputs": [
    {
     "data": {
      "text/plain": [
       "array([299837.0976, 299867.5   ])"
      ]
     },
     "execution_count": 48,
     "metadata": {},
     "output_type": "execute_result"
    }
   ],
   "source": [
    "conf_int"
   ]
  },
  {
   "cell_type": "markdown",
   "metadata": {},
   "source": [
    "#### Generating many bootstrap replicates"
   ]
  },
  {
   "cell_type": "code",
   "execution_count": 49,
   "metadata": {},
   "outputs": [],
   "source": [
    "def draw_bs_reps(data, func, size = 1):\n",
    "    '''Draw bootstrap replicates.'''\n",
    "    # Initialize array of replicates\n",
    "    bs_replicates = np.empty(size)\n",
    "    \n",
    "    #generate replicates\n",
    "    for i in range(size):\n",
    "        bs_replicates[i] = bootstrap_replicate_1d(data, func)\n",
    "        \n",
    "    return bs_replicates"
   ]
  },
  {
   "cell_type": "markdown",
   "metadata": {},
   "source": [
    "### Bootstrap replicates of the mean and the SEM\n",
    "- compute the bootstrap estimate of the probability distribution function of the mean\n",
    "    - remember, we are estimating the mean we would get if the measurements from the original dataset coul be repeated. \n",
    "    - This is a *probabilistic* estimate of the mean. \n",
    "    - We will plot the PDF as a histogram, \n",
    "    **notice** that it will be normal\n",
    "    \n",
    "In fact, it can be shown that under not-too-restrictive conditions, the value of the mean will always be Normally distributed. (This does not hold in general, just for the mean and a few other statistics.)\n",
    "\n",
    "The standard deviation of this distribution, called the **standard error of the mean** or **SEM**, is given by the standard deviation of the data divided by the square root of the number of data points. I.e. for a data set, `sem = np.std(data)/np.sqrt(len(data))`\n",
    "\n",
    "Using hacker statisticks, we get the same result without the need to derive it, "
   ]
  },
  {
   "cell_type": "code",
   "execution_count": 50,
   "metadata": {},
   "outputs": [
    {
     "data": {
      "text/plain": [
       "array([821.52030075, 787.84661654, 808.19323308, ..., 804.00902256,\n",
       "       804.07593985, 816.67142857])"
      ]
     },
     "execution_count": 50,
     "metadata": {},
     "output_type": "execute_result"
    }
   ],
   "source": [
    "# take 10,000 bootstrap replicates of the mean\n",
    "bs_replicates = draw_bs_reps(rainfall, np.mean, size=10000)\n",
    "bs_replicates"
   ]
  },
  {
   "cell_type": "code",
   "execution_count": 51,
   "metadata": {},
   "outputs": [
    {
     "name": "stdout",
     "output_type": "stream",
     "text": [
      "10.510549150506188\n",
      "10.450100751391789\n"
     ]
    }
   ],
   "source": [
    "# comptue and print SEM\n",
    "sem = np.std(rainfall) / np.sqrt(len(rainfall))\n",
    "print(sem)\n",
    "\n",
    "# compute and print standard deviation of bootstrap replicates\n",
    "bs_std = np.std(bs_replicates)\n",
    "print(bs_std)"
   ]
  },
  {
   "cell_type": "code",
   "execution_count": 52,
   "metadata": {},
   "outputs": [
    {
     "name": "stderr",
     "output_type": "stream",
     "text": [
      "/Users/paulomartinez/anaconda3/lib/python3.6/site-packages/matplotlib/axes/_axes.py:6462: UserWarning: The 'normed' kwarg is deprecated, and has been replaced by the 'density' kwarg.\n",
      "  warnings.warn(\"The 'normed' kwarg is deprecated, and has been \"\n"
     ]
    },
    {
     "data": {
      "image/png": "[encoded data removed]",
      "text/plain": [
       "<Figure size 432x288 with 1 Axes>"
      ]
     },
     "metadata": {},
     "output_type": "display_data"
    }
   ],
   "source": [
    "# make a histogram of the results\n",
    "plt.hist(bs_replicates, bins = 50, normed = True)\n",
    "plt.xlabel('mean annual rainfall (mm)')\n",
    "plt.ylabel('PDF')\n",
    "plt.show()"
   ]
  },
  {
   "cell_type": "code",
   "execution_count": 53,
   "metadata": {},
   "outputs": [
    {
     "data": {
      "text/plain": [
       "array([779.39796992, 820.38620301])"
      ]
     },
     "execution_count": 53,
     "metadata": {},
     "output_type": "execute_result"
    }
   ],
   "source": [
    "#confidence interval 95%\n",
    "np.percentile(bs_replicates, [2.5, 97.5])"
   ]
  },
  {
   "cell_type": "markdown",
   "metadata": {},
   "source": [
    "### Bootstrap replicates of other statistics\n"
   ]
  },
  {
   "cell_type": "code",
   "execution_count": 54,
   "metadata": {},
   "outputs": [
    {
     "name": "stderr",
     "output_type": "stream",
     "text": [
      "/Users/paulomartinez/anaconda3/lib/python3.6/site-packages/matplotlib/axes/_axes.py:6462: UserWarning: The 'normed' kwarg is deprecated, and has been replaced by the 'density' kwarg.\n",
      "  warnings.warn(\"The 'normed' kwarg is deprecated, and has been \"\n"
     ]
    },
    {
     "data": {
      "image/png": "[encoded data removed]",
      "text/plain": [
       "<Figure size 432x288 with 1 Axes>"
      ]
     },
     "metadata": {},
     "output_type": "display_data"
    }
   ],
   "source": [
    "# Generate 10,000 bootstrap replicates of the variance: bs_replicates\n",
    "bs_replicates = draw_bs_reps(rainfall, np.var, 10000)\n",
    "\n",
    "# Put the variance in units of square centimeters\n",
    "bs_replicates = bs_replicates/100\n",
    "\n",
    "# Make a histogram of the results\n",
    "_ = plt.hist(bs_replicates, bins = 50, normed = True)\n",
    "_ = plt.xlabel('variance of annual rainfall (sq. cm)')\n",
    "_ = plt.ylabel('PDF')\n",
    "\n",
    "# Show the plot\n",
    "plt.show()\n",
    "\n",
    "# not normally distributed, as it has a longer tail to the right"
   ]
  },
  {
   "cell_type": "markdown",
   "metadata": {},
   "source": [
    "## Pairs bootstrap\n",
    "### Nonparametric inference\n",
    "- make no assumptions about the model or probability distribution underlying the data\n",
    "- OLS used a linnear model with 2 parameters\n",
    "    - the optimal values computed would be different if they were computed with different data\n",
    "\n",
    "### Pairs bootstrap for linear regression\n",
    "- resample data *in pairs*\n",
    "- boostrap sampel consists of a set of (x,y) pairs\n",
    "- Each slope and intercept is a bootstrap replicate\n",
    "- Compute confidence intervals from percentiles of bootstrap replicates\n",
    "\n",
    "### Generating a pairs bootstrap sample\n",
    "- sample the indices of the data with replacement"
   ]
  },
  {
   "cell_type": "code",
   "execution_count": 55,
   "metadata": {},
   "outputs": [
    {
     "data": {
      "text/plain": [
       "array([0, 1, 2, 3, 4, 5, 6])"
      ]
     },
     "execution_count": 55,
     "metadata": {},
     "output_type": "execute_result"
    }
   ],
   "source": [
    "np.arange(7)"
   ]
  },
  {
   "cell_type": "code",
   "execution_count": 56,
   "metadata": {},
   "outputs": [
    {
     "data": {
      "text/html": [
       "<div>\n",
       "<style scoped>\n",
       "    .dataframe tbody tr th:only-of-type {\n",
       "        vertical-align: middle;\n",
       "    }\n",
       "\n",
       "    .dataframe tbody tr th {\n",
       "        vertical-align: top;\n",
       "    }\n",
       "\n",
       "    .dataframe thead th {\n",
       "        text-align: right;\n",
       "    }\n",
       "</style>\n",
       "<table border=\"1\" class=\"dataframe\">\n",
       "  <thead>\n",
       "    <tr style=\"text-align: right;\">\n",
       "      <th></th>\n",
       "      <th>state</th>\n",
       "      <th>county</th>\n",
       "      <th>total_votes</th>\n",
       "      <th>dem_votes</th>\n",
       "      <th>rep_votes</th>\n",
       "      <th>dem_share</th>\n",
       "    </tr>\n",
       "  </thead>\n",
       "  <tbody>\n",
       "    <tr>\n",
       "      <th>0</th>\n",
       "      <td>PA</td>\n",
       "      <td>Erie County</td>\n",
       "      <td>127691</td>\n",
       "      <td>75775</td>\n",
       "      <td>50351</td>\n",
       "      <td>60.08</td>\n",
       "    </tr>\n",
       "    <tr>\n",
       "      <th>1</th>\n",
       "      <td>PA</td>\n",
       "      <td>Bradford County</td>\n",
       "      <td>25787</td>\n",
       "      <td>10306</td>\n",
       "      <td>15057</td>\n",
       "      <td>40.64</td>\n",
       "    </tr>\n",
       "    <tr>\n",
       "      <th>2</th>\n",
       "      <td>PA</td>\n",
       "      <td>Tioga County</td>\n",
       "      <td>17984</td>\n",
       "      <td>6390</td>\n",
       "      <td>11326</td>\n",
       "      <td>36.07</td>\n",
       "    </tr>\n",
       "    <tr>\n",
       "      <th>3</th>\n",
       "      <td>PA</td>\n",
       "      <td>McKean County</td>\n",
       "      <td>15947</td>\n",
       "      <td>6465</td>\n",
       "      <td>9224</td>\n",
       "      <td>41.21</td>\n",
       "    </tr>\n",
       "    <tr>\n",
       "      <th>4</th>\n",
       "      <td>PA</td>\n",
       "      <td>Potter County</td>\n",
       "      <td>7507</td>\n",
       "      <td>2300</td>\n",
       "      <td>5109</td>\n",
       "      <td>31.04</td>\n",
       "    </tr>\n",
       "  </tbody>\n",
       "</table>\n",
       "</div>"
      ],
      "text/plain": [
       "  state           county  total_votes  dem_votes  rep_votes  dem_share\n",
       "0    PA      Erie County       127691      75775      50351      60.08\n",
       "1    PA  Bradford County        25787      10306      15057      40.64\n",
       "2    PA     Tioga County        17984       6390      11326      36.07\n",
       "3    PA    McKean County        15947       6465       9224      41.21\n",
       "4    PA    Potter County         7507       2300       5109      31.04"
      ]
     },
     "execution_count": 56,
     "metadata": {},
     "output_type": "execute_result"
    }
   ],
   "source": [
    "df_swing = pd.read_csv('https://raw.githubusercontent.com/johnashu/datacamp/master/statistical-thinking-in-python-part-1/2008_swing_states.csv')\n",
    "df_swing.head()"
   ]
  },
  {
   "cell_type": "code",
   "execution_count": 57,
   "metadata": {},
   "outputs": [
    {
     "name": "stdout",
     "output_type": "stream",
     "text": [
      "4.171176804410486e-05 39.50250989371809\n"
     ]
    },
    {
     "data": {
      "text/plain": [
       "array([4.0370717e-05, 4.0113912e+01])"
      ]
     },
     "execution_count": 57,
     "metadata": {},
     "output_type": "execute_result"
    }
   ],
   "source": [
    "inds = np.arange(len(df_swing.total_votes))\n",
    "\n",
    "bs_inds = np.random.choice(inds, len(inds))\n",
    "\n",
    "bs_total_votes = df_swing.total_votes[bs_inds]\n",
    "bs_dem_share = df_swing.dem_share[bs_inds]\n",
    "\n",
    "bs_slope, bs_intercept = np.polyfit(bs_total_votes, bs_dem_share, 1)\n",
    "\n",
    "print(bs_slope, bs_intercept)\n",
    "\n",
    "np.polyfit(df_swing.total_votes, df_swing.dem_share, 1) # fit of original"
   ]
  },
  {
   "cell_type": "markdown",
   "metadata": {},
   "source": [
    "We can even plot all of these bootstrapped regression lines to see how the regression line might have changed if the data were \"collected again.\""
   ]
  },
  {
   "cell_type": "code",
   "execution_count": 58,
   "metadata": {},
   "outputs": [
    {
     "data": {
      "image/png": "[encoded data removed]",
      "text/plain": [
       "<Figure size 432x288 with 1 Axes>"
      ]
     },
     "metadata": {},
     "output_type": "display_data"
    }
   ],
   "source": [
    "# Plot the illiteracy rate versus fertility\n",
    "_ = plt.scatter(df_swing.total_votes, df_swing.dem_share, marker='.')#, linestyle='none')\n",
    "plt.margins(0.02)\n",
    "_ = plt.xlabel('total votes (thousands)')\n",
    "_ = plt.ylabel('percent of vote for Obama')\n",
    "\n",
    "for i in range (50):\n",
    "    # Perform a linear regression using np.polyfit(): a, b\n",
    "    inds = np.arange(len(df_swing.total_votes))\n",
    "    \n",
    "    bs_inds = np.random.choice(inds, len(inds))\n",
    "    \n",
    "    bs_total_votes = df_swing.total_votes[bs_inds]\n",
    "    bs_dem_share = df_swing.dem_share[bs_inds]\n",
    "    \n",
    "    bs_slope, bs_intercept = np.polyfit(bs_total_votes, bs_dem_share, 1)\n",
    "    # Make theoretical line to plot\n",
    "    x = np.array([0, np.max(df_swing.total_votes)])\n",
    "    y = bs_slope * x + bs_intercept\n",
    "    \n",
    "    # Add regression line to your plot\n",
    "    _ = plt.plot(x, y, alpha = 0.3)\n",
    "\n",
    "# Draw the plot\n",
    "plt.title('50 simulated voting day linnear regressions')\n",
    "plt.show()"
   ]
  },
  {
   "cell_type": "code",
   "execution_count": 59,
   "metadata": {},
   "outputs": [],
   "source": [
    "### A Function to do pairs bootstraps\n",
    "def draw_bs_pairs_linreg(x, y, size=1):\n",
    "    \"\"\"Perform pairs bootstrap for linear regression.\"\"\"\n",
    "\n",
    "    # Set up array of indices to sample from: inds\n",
    "    inds = np.arange(len(x))\n",
    "\n",
    "    # Initialize replicates: bs_slope_reps, bs_intercept_reps\n",
    "    bs_slope_reps = np.empty(size)\n",
    "    bs_intercept_reps = np.empty(size)\n",
    "\n",
    "    # Generate replicates\n",
    "    for i in range(size):\n",
    "        bs_inds = np.random.choice(inds, size=len(inds))\n",
    "        bs_x, bs_y = x[bs_inds], y[bs_inds]\n",
    "        bs_slope_reps[i], bs_intercept_reps[i] = np.polyfit(bs_x, bs_y, 1)\n",
    "\n",
    "    return bs_slope_reps, bs_intercept_reps"
   ]
  },
  {
   "cell_type": "markdown",
   "metadata": {},
   "source": [
    "### Pairs boostrap of literacy/ferticlity data"
   ]
  },
  {
   "cell_type": "code",
   "execution_count": 60,
   "metadata": {},
   "outputs": [
    {
     "name": "stdout",
     "output_type": "stream",
     "text": [
      "[0.04427267 0.05523953]\n"
     ]
    },
    {
     "name": "stderr",
     "output_type": "stream",
     "text": [
      "/Users/paulomartinez/anaconda3/lib/python3.6/site-packages/matplotlib/axes/_axes.py:6462: UserWarning: The 'normed' kwarg is deprecated, and has been replaced by the 'density' kwarg.\n",
      "  warnings.warn(\"The 'normed' kwarg is deprecated, and has been \"\n"
     ]
    },
    {
     "data": {
      "image/png": "[encoded data removed]",
      "text/plain": [
       "<Figure size 432x288 with 1 Axes>"
      ]
     },
     "metadata": {},
     "output_type": "display_data"
    }
   ],
   "source": [
    "# Generate replicates of slope and intercept using pairs bootstrap\n",
    "bs_slope_reps, bs_intercept_reps = draw_bs_pairs_linreg(\n",
    "                    illiteracy, fertility, size=1000)\n",
    "\n",
    "# Compute and print 95% CI for slope\n",
    "print(np.percentile(bs_slope_reps, [2.5, 97.5]))\n",
    "\n",
    "# Plot the histogram\n",
    "_ = plt.hist(bs_slope_reps, bins=50, normed=True)\n",
    "_ = plt.xlabel('slope')\n",
    "_ = plt.ylabel('PDF')\n",
    "plt.show()"
   ]
  },
  {
   "cell_type": "markdown",
   "metadata": {},
   "source": [
    "### Plotting bootstrap regressions\n",
    "- visualize the variability \"we might expect\" in a linnera regression by plotting the line we would get from each bootstrap replicate of the slope and intercept. \n",
    "    - done for 100 boostrap replicates"
   ]
  },
  {
   "cell_type": "code",
   "execution_count": 61,
   "metadata": {},
   "outputs": [
    {
     "data": {
      "image/png": "[encoded data removed]",
      "text/plain": [
       "<Figure size 432x288 with 1 Axes>"
      ]
     },
     "metadata": {},
     "output_type": "display_data"
    }
   ],
   "source": [
    "# Generate array of x-values for bootstrap lines: x\n",
    "x = np.array([0, 100])\n",
    "\n",
    "# Plot the bootstrap lines\n",
    "for i in range(100):\n",
    "    _ = plt.plot(x, bs_slope_reps[i] * x + bs_intercept_reps[i],\n",
    "                 linewidth=0.5, alpha=0.2, color='red')\n",
    "\n",
    "# Plot the data\n",
    "_ = plt.plot(illiteracy, fertility, marker='.', linestyle='none')\n",
    "\n",
    "# Label axes, set the margins, and show the plot\n",
    "_ = plt.xlabel('illiteracy')\n",
    "_ = plt.ylabel('fertility')\n",
    "plt.margins(0.02)\n",
    "plt.show()"
   ]
  },
  {
   "cell_type": "markdown",
   "metadata": {},
   "source": [
    "# Chp. 3 Formulating and simulating a hypothesis\n",
    "How do we assess how reasonable our data described by the model is?\n",
    "**Hypothesis testing**\n",
    "- hypothesizing county level data distributions in similar states\n",
    "- assessment of how \"reasonable the observed data are assuming a hypothesis is true\"\n",
    "\n",
    "The hypothesis we're testing is the \"null hypothesis\"\n",
    "\n",
    "- could just plot the ECDFS of the two counties\n",
    "    - pensilvania\n",
    "    - ohio\n",
    "- but this visalization is does not make it easy to determine. \n",
    "    - PA lloks slightly more toward Obama in the middle part of the ECDFS but not by much"
   ]
  },
  {
   "cell_type": "code",
   "execution_count": 62,
   "metadata": {},
   "outputs": [
    {
     "data": {
      "image/png": "[encoded data removed]",
      "text/plain": [
       "<Figure size 432x288 with 1 Axes>"
      ]
     },
     "metadata": {},
     "output_type": "display_data"
    }
   ],
   "source": [
    "x,y = ecdf(df_swing.dem_share[df_swing.state == 'OH'])\n",
    "plt.plot(x,y, marker = '.', linestyle = 'None')\n",
    "\n",
    "x,y = ecdf(df_swing.dem_share[df_swing.state == 'PA'])\n",
    "plt.plot(x,y, marker = '.', linestyle = 'None')\n",
    "plt.legend(['OH', 'PA'])\n",
    "plt.xlabel('ECDF')\n",
    "plt.ylabel('percent vote for Obama')\n",
    "plt.show()\n"
   ]
  },
  {
   "cell_type": "markdown",
   "metadata": {},
   "source": [
    "We could compare some summary statistics but that doesn't help much either. Since the summary statistics are so similar. "
   ]
  },
  {
   "cell_type": "code",
   "execution_count": 63,
   "metadata": {},
   "outputs": [
    {
     "name": "stdout",
     "output_type": "stream",
     "text": [
      "------ PA\n",
      "mean 45.48 %\n",
      "median 44.03 %\n",
      "std 9.8 %\n"
     ]
    }
   ],
   "source": [
    "print('------ PA')\n",
    "print('mean', round(df_swing.dem_share[df_swing.state == 'PA'].mean(), 2), '%')\n",
    "print('median', round(df_swing.dem_share[df_swing.state == 'PA'].median(), 2), '%')\n",
    "print('std', round(df_swing.dem_share[df_swing.state == 'PA'].std(), 2), '%')"
   ]
  },
  {
   "cell_type": "code",
   "execution_count": 64,
   "metadata": {},
   "outputs": [
    {
     "name": "stdout",
     "output_type": "stream",
     "text": [
      "------ OH\n",
      "mean 44.32 %\n",
      "median 43.67 %\n",
      "std 9.9 %\n"
     ]
    }
   ],
   "source": [
    "print('------ OH')\n",
    "print('mean', round(df_swing.dem_share[df_swing.state == 'OH'].mean(), 2), '%')\n",
    "print('median', round(df_swing.dem_share[df_swing.state == 'OH'].median(), 2), '%')\n",
    "print('std', round(df_swing.dem_share[df_swing.state == 'OH'].std(), 2), '%')"
   ]
  },
  {
   "cell_type": "code",
   "execution_count": 65,
   "metadata": {},
   "outputs": [
    {
     "name": "stdout",
     "output_type": "stream",
     "text": [
      "------ PA - OH difference\n",
      "mean 1.16 %\n",
      "median 0.36 %\n",
      "std -0.09 %\n"
     ]
    }
   ],
   "source": [
    "print('------ PA - OH difference')\n",
    "print('mean', round(df_swing.dem_share[df_swing.state == 'PA'].mean() - df_swing.dem_share[df_swing.state == 'OH'].mean(), 2), '%')\n",
    "print('median', round(df_swing.dem_share[df_swing.state == 'PA'].median() - df_swing.dem_share[df_swing.state == 'OH'].median(), 2), '%')\n",
    "print('std', round(df_swing.dem_share[df_swing.state == 'PA'].std() - df_swing.dem_share[df_swing.state == 'OH'].std(), 2), '%')"
   ]
  },
  {
   "cell_type": "markdown",
   "metadata": {},
   "source": [
    "To resolve this issue, simulate what the data \"would\" look like if the county-level voting trends in the two states were identically distributed. \n",
    "\n",
    "## Simulating the Hypothesis\n",
    "- We can do this by putting the dem share of the vote for both states together.\n",
    "    - 67 for PA, the other 88 for OH\n",
    "- We then shuffle them, and assign the first 67 to PA and the rest to OH\n",
    "    - We just \"redid\" the election as if there were no difference between PA and OH\n",
    "\n",
    "This technique is called **permutation** \n",
    "- random reordering of entries in an array\n",
    "\n",
    "## Generating a permutation sample"
   ]
  },
  {
   "cell_type": "code",
   "execution_count": 66,
   "metadata": {},
   "outputs": [],
   "source": [
    "dem_share_PA = df_swing.dem_share[df_swing.state == 'PA']\n",
    "dem_share_OH = df_swing.dem_share[df_swing.state == 'OH']\n",
    "\n",
    "#concatenate the two arrayws\n",
    "dem_share_both = np.concatenate([dem_share_PA, dem_share_OH])\n",
    "\n",
    "# \"shuffle\" the values\n",
    "dem_share_perm = np.random.permutation(dem_share_both)\n",
    "\n",
    "# assign the appropriately lengthed subsets to each permuted state\n",
    "# permutation samples\n",
    "perm_sample_PA = dem_share_perm[:len(dem_share_PA)]\n",
    "perm_sample_OH = dem_share_perm[len(dem_share_PA):]"
   ]
  },
  {
   "cell_type": "code",
   "execution_count": 67,
   "metadata": {},
   "outputs": [
    {
     "data": {
      "image/png": "[encoded data removed]",
      "text/plain": [
       "<Figure size 432x288 with 1 Axes>"
      ]
     },
     "metadata": {},
     "output_type": "display_data"
    }
   ],
   "source": [
    "# compare the ECDFS of the permuted samples\n",
    "x,y = ecdf(perm_sample_OH)\n",
    "plt.plot(x,y, marker = '.', linestyle = 'None', alpha = .5)\n",
    "\n",
    "x,y = ecdf(perm_sample_PA)\n",
    "plt.plot(x,y, marker = '.', linestyle = 'None', alpha = .5)\n",
    "\n",
    "x,y = ecdf(df_swing.dem_share[df_swing.state == 'OH'])\n",
    "plt.plot(x,y, marker = '.', linestyle = 'None')\n",
    "\n",
    "x,y = ecdf(df_swing.dem_share[df_swing.state == 'PA'])\n",
    "plt.plot(x,y, marker = '.', linestyle = 'None')\n",
    "\n",
    "plt.xlabel('ECDF')\n",
    "plt.ylabel('percent vote for Obama')\n",
    "plt.legend(['perm_OH', 'perm_PA', 'OH', 'PA'])\n",
    "plt.show()"
   ]
  },
  {
   "cell_type": "markdown",
   "metadata": {},
   "source": [
    "## Hypothesis testing\n",
    "- testing the null hypothesis that the county-level voting is identically distributed between the two states.\n",
    "- assesment of how reasonable the observed data are assuming a hypothesis is true\n",
    "    - a bit vague:\n",
    "    - what about the dzta do we asses and how do we quantify the assessment?\n",
    "**test statistic**\n",
    "- A single number that can be computed from observed data and from data you simulate under the null hypothesis\n",
    "- serves as a basis of comparison between the two\n",
    "    - so pick a metric that is relevant/pertinent to the question you are trying to answer.\n",
    "        - i.e. are the two states different?\n",
    "    - if they are identical they should have the same mean vote share for Obama. \n",
    "        - so use the difference of means as our test statistic"
   ]
  },
  {
   "cell_type": "markdown",
   "metadata": {},
   "source": [
    "**permutation replicate** - the value of a test statistic computed from a permutation sample"
   ]
  },
  {
   "cell_type": "code",
   "execution_count": 68,
   "metadata": {},
   "outputs": [
    {
     "data": {
      "text/plain": [
       "-3.2909158751696026"
      ]
     },
     "execution_count": 68,
     "metadata": {},
     "output_type": "execute_result"
    }
   ],
   "source": [
    "# difference of the permuted samples\n",
    "np.mean(perm_sample_PA) - np.mean(perm_sample_OH)\n",
    "# about 1.03 %"
   ]
  },
  {
   "cell_type": "code",
   "execution_count": 69,
   "metadata": {},
   "outputs": [
    {
     "data": {
      "text/plain": [
       "1.1582360922659518"
      ]
     },
     "execution_count": 69,
     "metadata": {},
     "output_type": "execute_result"
    }
   ],
   "source": [
    "# difference of the original data\n",
    "np.mean(dem_share_PA) - np.mean(dem_share_OH)\n",
    "# about 1.16 %"
   ]
  },
  {
   "cell_type": "markdown",
   "metadata": {},
   "source": [
    "Notice: the difference is quite small (about .12%). \n",
    "We can \"redo\" the election 10,000 times testing the hypothesis by generating lots and lots of permutations"
   ]
  },
  {
   "cell_type": "code",
   "execution_count": 70,
   "metadata": {},
   "outputs": [],
   "source": [
    "def permutation_sample(data1, data2):\n",
    "    '''Generate a permutation sample from two data sets'''\n",
    "    # Concatenate the data sets:\n",
    "    data = np.concatenate((data1, data2))\n",
    "    # Permute the concatenated array:\n",
    "    permuted_data = np.random.permutation(data)\n",
    "    \n",
    "    # split the permuted array into two appropriately lengthed samples\n",
    "    perm_sample_1 = permuted_data[:len(data1)]\n",
    "    perm_sample_2 = permuted_data[len(data1):]\n",
    "    \n",
    "    return perm_sample_1, perm_sample_2"
   ]
  },
  {
   "cell_type": "code",
   "execution_count": 71,
   "metadata": {},
   "outputs": [],
   "source": [
    "rain_july = [ 66.2,  39.7,  76.4,  26.5,  11.2,  61.8,   6.1,  48.4,  89.2,\n",
    "       104. ,  34. ,  60.6,  57.1,  79.1,  90.9,  32.3,  63.8,  78.2,\n",
    "        27.5,  43.4,  30.1,  17.3,  77.5,  44.9,  92.2,  39.6,  79.4,\n",
    "        66.1,  53.5,  98.5,  20.8,  55.5,  39.6,  56. ,  65.1,  14.8,\n",
    "        13.2,  88.1,   8.4,  32.1,  19.6,  40.4,   2.2,  77.5, 105.4,\n",
    "        77.2,  38. ,  27.1, 111.8,  17.2,  26.7,  23.3,  77.2,  87.2,\n",
    "        27.7,  50.6,  60.3,  15.1,   6. ,  29.4,  39.3,  56.3,  80.4,\n",
    "        85.3,  68.4,  72.5,  13.3,  28.4,  14.7,  37.4,  49.5,  57.2,\n",
    "        85.9,  82.1,  31.8, 126.6,  30.7,  41.4,  33.9,  13.5,  99.1,\n",
    "        70.2,  91.8,  61.3,  13.7,  54.9,  62.5,  24.2,  69.4,  83.1,\n",
    "        44. ,  48.5,  11.9,  16.6,  66.4,  90. ,  34.9, 132.8,  33.4,\n",
    "       225. ,   7.6,  40.9,  76.5,  48. , 140. ,  55.9,  54.1,  46.4,\n",
    "        68.6,  52.2, 108.3,  14.6,  11.3,  29.8, 130.9, 152.4,  61. ,\n",
    "        46.6,  43.9,  30.9, 111.1,  68.5,  42.2,   9.8, 285.6,  56.7,\n",
    "       168.2,  41.2,  47.8, 166.6,  37.8,  45.4,  43.2]\n",
    "rain_november = [ 83.6,  30.9,  62.2,  37. ,  41. , 160.2,  18.2, 122.4,  71.3,\n",
    "        44.2,  49.1,  37.6, 114.5,  28.8,  82.5,  71.9,  50.7,  67.7,\n",
    "       112. ,  63.6,  42.8,  57.2,  99.1,  86.4,  84.4,  38.1,  17.7,\n",
    "       102.2, 101.3,  58. ,  82. , 101.4,  81.4, 100.1,  54.6,  39.6,\n",
    "        57.5,  29.2,  48.8,  37.3, 115.4,  55.6,  62. ,  95. ,  84.2,\n",
    "       118.1, 153.2,  83.4, 104.7,  59. ,  46.4,  50. , 147.6,  76.8,\n",
    "        59.9, 101.8, 136.6, 173. ,  92.5,  37. ,  59.8, 142.1,   9.9,\n",
    "       158.2,  72.6,  28. , 112.9, 119.3, 199.2,  50.7,  44. , 170.7,\n",
    "        67.2,  21.4,  61.3,  15.6, 106. , 116.2,  42.3,  38.5, 132.5,\n",
    "        40.8, 147.5,  93.9,  71.4,  87.3, 163.7, 141.4,  62.6,  84.9,\n",
    "        28.8, 121.1,  28.6,  32.4, 112. ,  50. ,  96.9,  81.8,  70.4,\n",
    "       117.5,  41.2, 124.9,  78.2,  93. ,  53.5,  50.5,  42.6,  47.9,\n",
    "        73.1, 129.1,  56.9, 103.3,  60.5, 134.3,  93.1,  49.5,  48.2,\n",
    "       167.9,  27. , 111.1,  55.4,  36.2,  57.4,  66.8,  58.3,  60. ,\n",
    "       161.6, 112.7,  37.4, 110.6,  56.6,  95.8, 126.8]"
   ]
  },
  {
   "cell_type": "code",
   "execution_count": 72,
   "metadata": {},
   "outputs": [
    {
     "data": {
      "image/png": "[encoded data removed]",
      "text/plain": [
       "<Figure size 432x288 with 1 Axes>"
      ]
     },
     "metadata": {},
     "output_type": "display_data"
    }
   ],
   "source": [
    "for _ in range(50):\n",
    "    # Generate permutation samples\n",
    "    perm_sample_1, perm_sample_2 = permutation_sample(\n",
    "                                    rain_july, rain_november)\n",
    "\n",
    "    # Compute ECDFs\n",
    "    x_1, y_1 = ecdf(perm_sample_1)\n",
    "    x_2, y_2 = ecdf(perm_sample_2)\n",
    "\n",
    "    # Plot ECDFs of permutation sample\n",
    "    _ = plt.plot(x_1, y_1, marker='.', linestyle='none',\n",
    "                 color='red', alpha=0.02)\n",
    "    _ = plt.plot(x_2, y_2, marker='.', linestyle='none',\n",
    "                 color='blue', alpha=0.02)\n",
    "\n",
    "# Create and plot ECDFs from original data\n",
    "x_1, y_1 = ecdf(rain_july)\n",
    "x_2, y_2 = ecdf(rain_november)\n",
    "_ = plt.plot(x_1, y_1, marker='.', linestyle='none', color='red')\n",
    "_ = plt.plot(x_2, y_2, marker='.', linestyle='none', color='blue')\n",
    "\n",
    "# Label axes, set margin, and show plot\n",
    "plt.margins(0.02)\n",
    "_ = plt.xlabel('monthly rainfall (mm)')\n",
    "_ = plt.ylabel('ECDF')\n",
    "plt.show()"
   ]
  },
  {
   "cell_type": "markdown",
   "metadata": {},
   "source": [
    "Notice \n",
    "1. the permutation samples' ECDFs overlap and give a purple haze. \n",
    "2. None of the ECDFs from the permutation samples overlap with the observed, data, suggesting that the hypothesis is not commensurate with the data. \n",
    "    - July and November rainfall are not identically distributed"
   ]
  },
  {
   "cell_type": "markdown",
   "metadata": {},
   "source": [
    "## Test statistics and p-values\n",
    "- after simulating the test hypothesis\n",
    "- we can start to test the null hypothesis\n",
    "- simulate the permutation many times (10,000) and look at histogram of the test statistic values.\n",
    "    - compare it with the line that represents the test statistic of the original data\n",
    "        - p-value will correspond to the area under the curve delimited by the original test statistic   "
   ]
  },
  {
   "cell_type": "code",
   "execution_count": 73,
   "metadata": {},
   "outputs": [
    {
     "data": {
      "image/png": "[encoded data removed]",
      "text/plain": [
       "<Figure size 432x288 with 1 Axes>"
      ]
     },
     "metadata": {},
     "output_type": "display_data"
    }
   ],
   "source": [
    "test_statistic = []\n",
    "for i in range(10000):\n",
    "    perm_sample_PA, perm_sample_OH = permutation_sample(dem_share_PA,\n",
    "                                                       dem_share_OH)\n",
    "    # difference of the permuted samples\n",
    "    test_statistic.append(np.mean(perm_sample_PA) - np.mean(perm_sample_OH))\n",
    "\n",
    "plt.hist(np.array(test_statistic), bins = 50)\n",
    "plt.axvline(x = np.mean(dem_share_PA) - np.mean(dem_share_OH), \n",
    "            color = 'red', linewidth = .5)\n",
    "plt.xlabel('PDF')\n",
    "plt.ylabel('PA - OH mean percent vote difference')\n",
    "plt.show()"
   ]
  },
  {
   "cell_type": "markdown",
   "metadata": {},
   "source": [
    "In this case, about 23% of the \"elections\" had a least 1.16% difference or greater. 0.23 is the p-value"
   ]
  },
  {
   "cell_type": "markdown",
   "metadata": {},
   "source": [
    "## p-value\n",
    "- the probability of obtaining a value of your test statistic that is at least as extreme as what was observed, under the assumption the null hypothesis is true\n",
    "    - the probability of getting at least 1.16% mean diffference \n",
    "\n",
    "So, is it plausible that we would observe the vote share we got if PA and OH had identically distributed county-level voting. \n",
    "- yes. \n",
    "- it happend 23% of the time under the null hypothesis\n",
    "\n",
    "- NOT THE PROBABILITY THAT THE NULL HYPOTHESIS IS TRUE\n",
    "\n",
    "- p-value only maningful if the null hypothesis is clearly stated, along with the tes stat used to evaluate it.\n",
    "- when the p-val is small it is often said the data are statistically significantly different than what we would observe under the null hypotheis\n",
    "- for this reason the hpothesis testing we're doing is sometimes called the null hypothesis significance testing, or NHST\n",
    "\n",
    "remember: consider how different the data are from what you would expect from the null hypothesis\n",
    "- statistical significance (low p-values)\n",
    "- practical significance, whether or not the difference of the data from the null hypothesis matters for practical considerations, are two different things. \n",
    "\n",
    "statistical significance != practical significance"
   ]
  },
  {
   "cell_type": "code",
   "execution_count": 74,
   "metadata": {},
   "outputs": [],
   "source": [
    "# generalize the above process into a function\n",
    "def draw_perm_reps(data_1, data_2, func, size=1):\n",
    "    \"\"\"Generate multiple permutation replicates.\"\"\"\n",
    "\n",
    "    # Initialize array of replicates: perm_replicates\n",
    "    perm_replicates = np.empty(size)\n",
    "\n",
    "    for i in range(size):\n",
    "        # Generate permutation sample\n",
    "        perm_sample_1, perm_sample_2 = permutation_sample(data_1, data_2)\n",
    "\n",
    "        # Compute the test statistic\n",
    "        perm_replicates[i] = func(perm_sample_1, perm_sample_2)\n",
    "\n",
    "    return perm_replicates"
   ]
  },
  {
   "cell_type": "code",
   "execution_count": 75,
   "metadata": {},
   "outputs": [
    {
     "data": {
      "text/html": [
       "<div>\n",
       "<style scoped>\n",
       "    .dataframe tbody tr th:only-of-type {\n",
       "        vertical-align: middle;\n",
       "    }\n",
       "\n",
       "    .dataframe tbody tr th {\n",
       "        vertical-align: top;\n",
       "    }\n",
       "\n",
       "    .dataframe thead th {\n",
       "        text-align: right;\n",
       "    }\n",
       "</style>\n",
       "<table border=\"1\" class=\"dataframe\">\n",
       "  <thead>\n",
       "    <tr style=\"text-align: right;\">\n",
       "      <th></th>\n",
       "      <th>impact_force</th>\n",
       "      <th>ID</th>\n",
       "    </tr>\n",
       "  </thead>\n",
       "  <tbody>\n",
       "    <tr>\n",
       "      <th>0</th>\n",
       "      <td>1.612</td>\n",
       "      <td>A</td>\n",
       "    </tr>\n",
       "    <tr>\n",
       "      <th>1</th>\n",
       "      <td>0.605</td>\n",
       "      <td>A</td>\n",
       "    </tr>\n",
       "    <tr>\n",
       "      <th>2</th>\n",
       "      <td>0.327</td>\n",
       "      <td>A</td>\n",
       "    </tr>\n",
       "    <tr>\n",
       "      <th>3</th>\n",
       "      <td>0.946</td>\n",
       "      <td>A</td>\n",
       "    </tr>\n",
       "    <tr>\n",
       "      <th>4</th>\n",
       "      <td>0.541</td>\n",
       "      <td>A</td>\n",
       "    </tr>\n",
       "  </tbody>\n",
       "</table>\n",
       "</div>"
      ],
      "text/plain": [
       "   impact_force ID\n",
       "0         1.612  A\n",
       "1         0.605  A\n",
       "2         0.327  A\n",
       "3         0.946  A\n",
       "4         0.541  A"
      ]
     },
     "execution_count": 75,
     "metadata": {},
     "output_type": "execute_result"
    }
   ],
   "source": [
    "ID = ['A', 'A', 'A', 'A', 'A', 'A', 'A', 'A', 'A', 'A', 'A', 'A', 'A',\n",
    "       'A', 'A', 'A', 'A', 'A', 'A', 'A', 'B', 'B', 'B', 'B', 'B', 'B',\n",
    "       'B', 'B', 'B', 'B', 'B', 'B', 'B', 'B', 'B', 'B', 'B', 'B', 'B',\n",
    "       'B']\n",
    "impact_force = [1.612, 0.605, 0.327, 0.946, 0.541, 1.539, 0.529, 0.628, 1.453,\n",
    "       0.297, 0.703, 0.269, 0.751, 0.245, 1.182, 0.515, 0.435, 0.383,\n",
    "       0.457, 0.73 , 0.172, 0.142, 0.037, 0.453, 0.355, 0.022, 0.502,\n",
    "       0.273, 0.72 , 0.582, 0.198, 0.198, 0.597, 0.516, 0.815, 0.402,\n",
    "       0.605, 0.711, 0.614, 0.468]\n",
    "\n",
    "frogs_df = pd.DataFrame(ID, impact_force)\n",
    "frogs_df.reset_index(inplace=True)\n",
    "frogs_df.columns = ['impact_force', 'ID']\n",
    "frogs_df.head()"
   ]
  },
  {
   "cell_type": "code",
   "execution_count": 76,
   "metadata": {},
   "outputs": [
    {
     "data": {
      "image/png": "[encoded data removed]",
      "text/plain": [
       "<Figure size 432x288 with 1 Axes>"
      ]
     },
     "metadata": {},
     "output_type": "display_data"
    }
   ],
   "source": [
    "# swarm plot\n",
    "sns.swarmplot(x = 'ID', y = 'impact_force', data = frogs_df)\n",
    "plt.xlabel('frog')\n",
    "plt.ylabel('impact force (N)')\n",
    "plt.show()"
   ]
  },
  {
   "cell_type": "markdown",
   "metadata": {},
   "source": [
    "The swarm plots look like the frogs have different data\n",
    "- but since only 20 data points per frog is perhaps too little to notice the pattern, let's measure the distribution of each one\n",
    "\n",
    "### Permutation test on frog data"
   ]
  },
  {
   "cell_type": "code",
   "execution_count": 77,
   "metadata": {},
   "outputs": [],
   "source": [
    "def diff_of_means(data_1, data_2):\n",
    "    \"\"\"Difference in means of two arrays.\"\"\"\n",
    "\n",
    "    # The difference of means of data_1, data_2: diff\n",
    "    diff = np.mean(data_1) - np.mean(data_2)\n",
    "\n",
    "    return diff\n"
   ]
  },
  {
   "cell_type": "code",
   "execution_count": 78,
   "metadata": {},
   "outputs": [],
   "source": [
    "force_a = frogs_df.impact_force[frogs_df.ID == 'A']\n",
    "force_b = frogs_df.impact_force[frogs_df.ID == 'B']"
   ]
  },
  {
   "cell_type": "code",
   "execution_count": 79,
   "metadata": {},
   "outputs": [
    {
     "name": "stdout",
     "output_type": "stream",
     "text": [
      "empirical diff of means 0.2882500000000002\n",
      "p-value = 0.0046\n"
     ]
    }
   ],
   "source": [
    "# Compute difference of mean impact force from experiment: empirical_diff_means\n",
    "empirical_diff_means = diff_of_means(force_a, force_b)\n",
    "print('empirical diff of means', empirical_diff_means)\n",
    "\n",
    "# Draw 10,000 permutation replicates: perm_replicates\n",
    "perm_replicates = draw_perm_reps(force_a, force_b,\n",
    "                                 diff_of_means, size=10000)\n",
    "\n",
    "# Compute p-value: p\n",
    "p = np.sum(perm_replicates >= empirical_diff_means) / len(perm_replicates)\n",
    "\n",
    "# Print the result\n",
    "print('p-value =', p)\n",
    "\n",
    "#I'm pretty sure p will be the odds of getting a diff of means \n",
    "# of the permuted samples that is\n",
    "# greater than or equal to the empirical difference\n",
    "\n",
    "# i.e. odds of getting the empirical difference\n",
    "# if two identical frogs were compared 20 * 10,000 times\n",
    "\n",
    "# i.e. the chance that two identical frogs would produce these results\n",
    "# if they were tested 200,000 times\n",
    "\n",
    "# .4% chance"
   ]
  },
  {
   "cell_type": "code",
   "execution_count": 80,
   "metadata": {},
   "outputs": [
    {
     "data": {
      "image/png": "[encoded data removed]",
      "text/plain": [
       "<Figure size 432x288 with 1 Axes>"
      ]
     },
     "metadata": {},
     "output_type": "display_data"
    }
   ],
   "source": [
    "plt.hist(perm_replicates)\n",
    "plt.axvline(x = empirical_diff_means, color = 'red', linewidth = '1')\n",
    "plt.show()"
   ]
  },
  {
   "cell_type": "markdown",
   "metadata": {},
   "source": [
    "## Bootstrap Hypothesis Tests\n",
    "pipeline of hypothesis testing\n",
    "1. clearly state the null-hypothesis\n",
    "2. Define the test statistic\n",
    "3. generate many sets of simulated data, under the assumption the null hypothesis is true\n",
    "4. compute the corresponding test statistic many times (for each simulated data set).\n",
    "5. The p-value is the fraction of your simulated data sets for whicch the test statistic is at least as extreme as it was for the real data\n",
    "\n",
    "### Example: Michelson & Newcomb: speed of light pioneers\n",
    "Michelson mean: 299,852 km/s\n",
    "Newcomb mean: 299,860 km/s\n",
    "\n",
    "difference of about 8 km/s\n",
    "\n",
    "was there something fundamentally different about their experiments?\n",
    "\n",
    "catch: we only have newcombs mean (and not his measurements)\n",
    "\n",
    "**hypothesis: The true mean speed of light in Michelson's experiments was actually Newcomb's reported value**\n",
    "- *sorta like saying: Michelson's data was skewed somehow, and had he actually made enough measurements or cleaned up his noise, he would have obtained Newcombs mean*\n",
    "    - the mean michelson would have gotten, had he done his experiment lots and lots and lots of times\n",
    "    \n",
    "we can't do permutations because we don't have newcombs data.\n",
    "\n",
    "**solution:**\n",
    "### Shifting the Michelson data"
   ]
  },
  {
   "cell_type": "code",
   "execution_count": 81,
   "metadata": {},
   "outputs": [],
   "source": [
    "newcomb_value = 299860 # km/s\n",
    "#mean measurement from newcomb"
   ]
  },
  {
   "cell_type": "code",
   "execution_count": 84,
   "metadata": {},
   "outputs": [
    {
     "data": {
      "text/plain": [
       "299852.4"
      ]
     },
     "execution_count": 84,
     "metadata": {},
     "output_type": "execute_result"
    }
   ],
   "source": [
    "# michelson's mean measurement in km/s\n",
    "np.mean(michelson_speed_of_light.Speed)"
   ]
  },
  {
   "cell_type": "code",
   "execution_count": 95,
   "metadata": {},
   "outputs": [],
   "source": [
    "# shift the michelson data so its mean matches the newcomb value"
   ]
  },
  {
   "cell_type": "code",
   "execution_count": 96,
   "metadata": {},
   "outputs": [
    {
     "data": {
      "text/plain": [
       "299860.0000000005"
      ]
     },
     "execution_count": 96,
     "metadata": {},
     "output_type": "execute_result"
    }
   ],
   "source": [
    "michelson_shifted = michelson_speed_of_light.Speed - np.mean(michelson_speed_of_light.Speed) + newcomb_value\n",
    "michelson_shifted.mean()"
   ]
  },
  {
   "cell_type": "code",
   "execution_count": 107,
   "metadata": {},
   "outputs": [
    {
     "data": {
      "image/png": "[encoded data removed]",
      "text/plain": [
       "<Figure size 432x288 with 1 Axes>"
      ]
     },
     "metadata": {},
     "output_type": "display_data"
    }
   ],
   "source": [
    "# Create and plot ECDFs for both original data\n",
    "x_1, y_1 = ecdf(michelson_speed_of_light.Speed)\n",
    "x_2, y_2 = ecdf(michelson_shifted)\n",
    "_ = plt.plot(x_1, y_1, marker='.', linestyle='none', color='green')\n",
    "_ = plt.plot(x_2, y_2, marker='.', linestyle='none', color='blue')\n",
    "\n",
    "# Label axes, set margin, and show plot\n",
    "plt.margins(0.02)\n",
    "_ = plt.xlabel('michelson speed of light measurements (km/s)')\n",
    "_ = plt.ylabel('ECDF')\n",
    "plt.legend(['Michelson data', 'Shifted Michelson data'])\n",
    "plt.show()"
   ]
  },
  {
   "cell_type": "markdown",
   "metadata": {},
   "source": [
    "I'm not getting the same results as the data camp video but whateves\n",
    "\n",
    "## Calculating the test statistic\n",
    "compute the observed test statistic"
   ]
  },
  {
   "cell_type": "code",
   "execution_count": 103,
   "metadata": {},
   "outputs": [
    {
     "data": {
      "text/plain": [
       "-7.599999999976717"
      ]
     },
     "execution_count": 103,
     "metadata": {},
     "output_type": "execute_result"
    }
   ],
   "source": [
    "def diff_from_newcomb(data, newcomb_value = 299860):\n",
    "    return np.mean(data) - newcomb_value\n",
    "\n",
    "diff_obs = diff_from_newcomb(michelson_speed_of_light.Speed)\n",
    "\n",
    "diff_obs #the observed tes statistic"
   ]
  },
  {
   "cell_type": "markdown",
   "metadata": {},
   "source": [
    "## Computing the p-value\n",
    "bs_replicates will be the value of the test statistic for the bootstrap samples of data\n",
    "\n",
    "we pass the michelson_shifted data because *those* are the ones used to simulate the null hypothesis\n",
    "- that michelson would have obtained newcombs mean had he conduceted sufficient iterations. \n",
    "    - in other words, we'll look to see what the odds are that, assuming the true mean is equivalent to necombs mean, michelson could have by sheer chance obtained a difference at least as extreme as the observed one"
   ]
  },
  {
   "cell_type": "code",
   "execution_count": 123,
   "metadata": {},
   "outputs": [],
   "source": [
    "bs_replicates = draw_bs_reps(michelson_shifted, diff_from_newcomb, 10000)"
   ]
  },
  {
   "cell_type": "code",
   "execution_count": 124,
   "metadata": {},
   "outputs": [
    {
     "data": {
      "text/plain": [
       "0.1602"
      ]
     },
     "execution_count": 124,
     "metadata": {},
     "output_type": "execute_result"
    }
   ],
   "source": [
    "#what percent of the observed differences are at least as extreme as our observed difference\n",
    "p_value = np.sum(bs_replicates <= diff_obs) / 10000\n",
    "p_value"
   ]
  },
  {
   "cell_type": "markdown",
   "metadata": {},
   "source": [
    "This suggests that it is quite possible that newcomb and michelson did not have fundamental differences in their measurements. \n",
    "\n",
    "This has been an example of a:\n",
    "## One sample test\n",
    "- Compare one set of data to a single statistic from a comparable set of data\n",
    "    - compare the michelson data to the newcomb mean\n",
    "\n",
    "\n",
    "\n",
    "### Frogs 🐸 and one-sample bootstrap hypothesis test\n",
    "Another Frog (🐸 C) was studies. \n",
    "- check if frog C and B have similar impact forces\n",
    "- but, we don't have C's impact force measurements\n",
    "    - we do, however, know that their mean was 0.55 N\n",
    "- we cant do a permutation\n",
    "    -  we cant test the hypothesis that the measurements come from the same distribution\n",
    "    - but, we can test whether \n",
    "**Null Hypothesis** the mean of B is equal to the mean of C\n",
    "**test statistic** mean\n",
    "(Goal: calculate the probability that two frogs with equal means could be measured to have the observed difference)\n",
    "1. translate all of the data from 🐸 B\n",
    "    - (subtract the mean of B, and add the mean of C to every measurement in B)\n",
    "        - This leaves other propoerties of Frog B's distribution, such as the variance, unchanged. \n",
    "        \n",
    "perform bootstrap test of the hypothesis that Frog A and Frog B have identical distributions of impact forces using the difference of means test statistic"
   ]
  },
  {
   "cell_type": "code",
   "execution_count": 128,
   "metadata": {},
   "outputs": [
    {
     "name": "stdout",
     "output_type": "stream",
     "text": [
      "p =  0.0066\n"
     ]
    }
   ],
   "source": [
    "# Make an array of translated impact forces: translated_force_b\n",
    "translated_force_b = force_b - np.mean(force_b) + 0.55\n",
    "\n",
    "# Take bootstrap replicates of Frog B's translated impact forces: bs_replicates\n",
    "bs_replicates = draw_bs_reps(translated_force_b, np.mean, 10000)\n",
    "\n",
    "# Compute fraction of replicates that are less than the observed Frog B force: p\n",
    "p = np.sum(bs_replicates <= np.mean(force_b)) / 10000\n",
    "\n",
    "# Print the p-value\n",
    "print('p = ', p)\n"
   ]
  },
  {
   "cell_type": "code",
   "execution_count": null,
   "metadata": {},
   "outputs": [],
   "source": [
    "# .66% chance of frogs with identical means being measured with such a difference"
   ]
  },
  {
   "cell_type": "markdown",
   "metadata": {},
   "source": [
    "## Two sample test\n",
    "- compare two sets of data"
   ]
  },
  {
   "cell_type": "code",
   "execution_count": 135,
   "metadata": {},
   "outputs": [
    {
     "name": "stdout",
     "output_type": "stream",
     "text": [
      "p-value = 0.0058\n"
     ]
    }
   ],
   "source": [
    "# Compute difference of mean impact force from experiment: empirical_diff_means\n",
    "empirical_diff_means = diff_of_means(force_a, force_b)\n",
    "\n",
    "# Concatenate forces: forces_concat\n",
    "forces_concat = np.concatenate((force_a, force_b))\n",
    "\n",
    "# Initialize bootstrap replicates: bs_replicates\n",
    "bs_replicates = np.empty(10000)\n",
    "\n",
    "for i in range(10000):\n",
    "    # Generate bootstrap sample\n",
    "    bs_sample = np.random.choice(forces_concat, size=len(forces_concat))\n",
    "\n",
    "    # Compute replicate\n",
    "    bs_replicates[i] = diff_of_means(bs_sample[:len(force_a)],\n",
    "                                     bs_sample[len(force_a):])\n",
    "\n",
    "# Compute and print p-value: p\n",
    "p = np.sum(bs_replicates >= empirical_diff_means) / len(bs_replicates)\n",
    "print('p-value =', p)\n",
    "\n",
    "#0.7% chance frogs with identical distributions would be observed with at least the empirical difference"
   ]
  },
  {
   "cell_type": "markdown",
   "metadata": {},
   "source": [
    "Compare to the p = 0.0063 that we got from the permutation test\n",
    "\n",
    "Both tests test the same thing. However, the permutation test *exactly* simulates the null hypothesis that the data came from the same distribution, whereas the bootstrap test *aproximately* simulates it.\n",
    "\n",
    "**np.random.choice allows for repeated values**\n",
    "\n",
    "**np.random.permutation does not**\n",
    "\n",
    "The bootstrap hypothesis test, while approximate, is more versatile"
   ]
  },
  {
   "cell_type": "code",
   "execution_count": 144,
   "metadata": {},
   "outputs": [
    {
     "data": {
      "text/plain": [
       "array([7, 0, 3, 5, 8, 1, 6, 2, 4, 9])"
      ]
     },
     "execution_count": 144,
     "metadata": {},
     "output_type": "execute_result"
    }
   ],
   "source": [
    "# whats the difference between\n",
    "np.random.permutation(10)"
   ]
  },
  {
   "cell_type": "code",
   "execution_count": 143,
   "metadata": {},
   "outputs": [
    {
     "data": {
      "text/plain": [
       "array([2, 3, 7, 7, 8, 0, 9, 3, 5, 6])"
      ]
     },
     "execution_count": 143,
     "metadata": {},
     "output_type": "execute_result"
    }
   ],
   "source": [
    "# and\n",
    "np.random.choice(10, size=10)"
   ]
  },
  {
   "cell_type": "markdown",
   "metadata": {},
   "source": [
    "### A two-sample bootstrap hypothesis test for difference of means.\n",
    "You performed a one-sample bootstrap hypothesis test, which is impossible to do with permutation. Testing the hypothesis that two samples have the same distribution may be done with a bootstrap test, but a permutation test is preferred because it is more accurate (exact, in fact). But therein lies the limit of a permutation test; it is not very versatile. \n",
    "\n",
    "*We now want to test the hypothesis that Frog A and Frog B have **the same mean impact force, but not necessarily the same distribution**. This, too, is impossible with a permutation test.*\n",
    "\n",
    "To do the two-sample bootstrap test, we shift both arrays to have the same mean, since we are simulating the hypothesis that their means are, in fact, equal. We then draw bootstrap samples out of the shifted arrays and compute the difference in means. This constitutes a bootstrap replicate, and we generate many of them. The p-value is the fraction of replicates with a difference in means greater than or equal to what was observed."
   ]
  },
  {
   "cell_type": "code",
   "execution_count": 151,
   "metadata": {},
   "outputs": [
    {
     "name": "stdout",
     "output_type": "stream",
     "text": [
      "p-value = 0.0041\n"
     ]
    }
   ],
   "source": [
    "# Compute mean of all forces: mean_force\n",
    "mean_force = np.mean(forces_concat)\n",
    "\n",
    "# Generate shifted arrays\n",
    "force_a_shifted = force_a - np.mean(force_a) + mean_force\n",
    "force_b_shifted = force_b - np.mean(force_b) + mean_force\n",
    "\n",
    "# Compute 10,000 bootstrap replicates from shifted arrays\n",
    "bs_replicates_a = draw_bs_reps(force_a_shifted, np.mean, size=10000)\n",
    "bs_replicates_b = draw_bs_reps(force_b_shifted, np.mean, size=10000)\n",
    "\n",
    "# Get replicates of difference of means: bs_replicates\n",
    "bs_replicates = bs_replicates_a - bs_replicates_b\n",
    "\n",
    "# Compute and print p-value: p\n",
    "p = np.sum(bs_replicates >= empirical_diff_means) / len(bs_replicates)\n",
    "print('p-value =', p)\n"
   ]
  },
  {
   "cell_type": "markdown",
   "metadata": {},
   "source": [
    "Notice: that the 'more forgiving' hypothesis (that only the means are equal, as opposed to having identical distributions) gives a higher p-value. "
   ]
  },
  {
   "cell_type": "markdown",
   "metadata": {},
   "source": [
    "# Chp. 4 A/B testing\n",
    "- Example: Comaring old Splash page to a new, redesigned, splash page\n",
    "    - page A sends 45/500 users through\n",
    "    - page B sends 67/500 users through\n",
    "- lets test to see if this is statistically significant or due to chance\n",
    "\n",
    "## Null hypothesis: The click-through rate is not affected by the redesign"
   ]
  },
  {
   "cell_type": "code",
   "execution_count": 182,
   "metadata": {},
   "outputs": [
    {
     "data": {
      "text/plain": [
       "45"
      ]
     },
     "execution_count": 182,
     "metadata": {},
     "output_type": "execute_result"
    }
   ],
   "source": [
    "# construct A\n",
    "clickthrough_A = np.append(np.random.choice([1], size=(45,)), \n",
    "                           np.random.choice([0], size = (500-45,)))\n",
    "clickthrough_A = np.random.permutation(clickthrough_A)\n",
    "clickthrough_A.sum()"
   ]
  },
  {
   "cell_type": "code",
   "execution_count": 183,
   "metadata": {},
   "outputs": [
    {
     "data": {
      "text/plain": [
       "67"
      ]
     },
     "execution_count": 183,
     "metadata": {},
     "output_type": "execute_result"
    }
   ],
   "source": [
    "# construct B\n",
    "clickthrough_B = np.append(np.random.choice([1], size=(67,)), \n",
    "                           np.random.choice([0], size = (500-67,)))\n",
    "clickthrough_B = np.random.permutation(clickthrough_B)\n",
    "clickthrough_B.sum()"
   ]
  },
  {
   "cell_type": "code",
   "execution_count": 184,
   "metadata": {},
   "outputs": [],
   "source": [
    "# define a function to calculate the difference of fractions of users each page sends through\n",
    "def diff_frac(data_A, data_B):\n",
    "    frac_A = np.sum(data_A) / len(data_A)\n",
    "    frac_B = np.sum(data_B) / len(data_B)\n",
    "    return frac_B - frac_A"
   ]
  },
  {
   "cell_type": "code",
   "execution_count": 185,
   "metadata": {},
   "outputs": [
    {
     "data": {
      "text/plain": [
       "4.4"
      ]
     },
     "execution_count": 185,
     "metadata": {},
     "output_type": "execute_result"
    }
   ],
   "source": [
    "# compute the observed value\n",
    "diff_frac_obs = diff_frac(clickthrough_A,\n",
    "                         clickthrough_B)\n",
    "round(100*diff_frac_obs, 2)"
   ]
  },
  {
   "cell_type": "markdown",
   "metadata": {},
   "source": [
    "## Permutation test of clicks through"
   ]
  },
  {
   "cell_type": "code",
   "execution_count": 186,
   "metadata": {},
   "outputs": [],
   "source": [
    "# initialize empty set of replicate test statistics\n",
    "perm_replicates = draw_perm_reps(clickthrough_A, \n",
    "                                 clickthrough_B, \n",
    "                                 diff_frac, \n",
    "                                size = 10000)"
   ]
  },
  {
   "cell_type": "code",
   "execution_count": 187,
   "metadata": {},
   "outputs": [
    {
     "data": {
      "text/plain": [
       "0.0166"
      ]
     },
     "execution_count": 187,
     "metadata": {},
     "output_type": "execute_result"
    }
   ],
   "source": [
    "# p value: the fractio of test statistics that is at least as extreme as the observed one\n",
    "p_value = np.sum(perm_replicates >= diff_frac_obs) / 10000\n",
    "p_value"
   ]
  },
  {
   "cell_type": "markdown",
   "metadata": {},
   "source": [
    "relatively small p value. So we might reasonably think the re-design is an imporvement\n",
    "\n",
    "## A/B Test\n",
    "- Used by organizations to see if a strategy change gives a better result\n",
    "### Null Hypothesis of an A/B test\n",
    "- The test statistic is impervious to the change\n",
    "- low p-value suggests a change in strategy led to a change in performance\n",
    "\n",
    "- ⚠️ the difference in p_value may not have been worth the cost. \n",
    "    - may not have been practically significantly"
   ]
  },
  {
   "cell_type": "markdown",
   "metadata": {},
   "source": [
    "### The vote for the Civil Rights Act in 1964\n",
    "- Excluding \"present\" and \"abstain\" votes, \n",
    "    - 153 House Democrats voted yay\n",
    "        - 91 Democrats voted nay\n",
    "    - 136 House Republicans voted yay\n",
    "        - 35 Republicans voted nay\n",
    "Question: Did party affiliation make a difference in the vote?\n",
    "\n",
    "To Answer the question, let's test the null-hypothesis\n",
    "**null-hypothesis**: party had no bearing on a representative's vote\n",
    "\n",
    "**test statistic** fraction of Democrats voting in favor\n",
    "\n",
    "**evaluate** the probability of observing a fraction of Democrats voting in favor at least as small as the observed fraction of 153/244. To do this:\n",
    "- permute the party labels of party labels of the House voters \n",
    "- and then arbitrarily divide them into \"Democrats\" and \"Republicans\"\n",
    "\n",
    "*Wait, what?* \n",
    "1) Assume party made no difference, that is, assume the distribution of nays is arbitrary. \n",
    "2) reshuffle the votes and slice them up in appropriate slices, measure the fraction of Dems voting nay. \n",
    "3) Do this 10000 times to see what the odds are that the dems could have \"drawn that fraction of nays\" if the nays were distributed at random...\n",
    "\n",
    "*I guess, that does actually make sense*"
   ]
  },
  {
   "cell_type": "code",
   "execution_count": 190,
   "metadata": {},
   "outputs": [
    {
     "name": "stdout",
     "output_type": "stream",
     "text": [
      "p-value =  0.0003\n"
     ]
    }
   ],
   "source": [
    "# Construct arrays of data:\n",
    "dems = np.array([True] * 153 + [False] * 91)\n",
    "\n",
    "reps = np.array([True] * 136 + [False] * 35)\n",
    "\n",
    "def frac_yay_dems(dems, reps):\n",
    "    '''Compute fraction of Democrat yay cotes.'''\n",
    "    frac = np.sum(dems) / len(dems)\n",
    "    return frac\n",
    "\n",
    "# Acquire permutation samples\n",
    "perm_replicates = draw_perm_reps(dems, reps, frac_yay_dems, 10000)\n",
    "\n",
    "# Compute and print p-value\n",
    "p = np.sum(perm_replicates <= 153/244)/len(perm_replicates)\n",
    "print('p-value = ', p)\n",
    "# .01 % chance of dems randomly drawing 91 nays from a shuffled deck"
   ]
  },
  {
   "cell_type": "markdown",
   "metadata": {},
   "source": [
    "\"Importantly, the South had a higher fraction of Democrat representatives, and consequently also a more racist bias\"\n",
    "\n",
    "### Continuous variable A/B test\n",
    "evaluate the time between no hitters before and after changes to \n",
    "dead-ball regulations (whether or not a pitcher can spit on or scuff a ball)."
   ]
  },
  {
   "cell_type": "code",
   "execution_count": 192,
   "metadata": {},
   "outputs": [],
   "source": [
    "nht_dead = np.array([  -1,  894,   10,  130,    1,  934,   29,    6,  485,  254,  372,\n",
    "         81,  191,  355,  180,  286,   47,  269,  361,  173,  246,  492,\n",
    "        462, 1319,   58,  297,   31, 2970,  640,  237,  434,  570,   77,\n",
    "        271,  563, 3365,   89,    0,  379,  221,  479,  367,  628,  843,\n",
    "       1613, 1101,  215,  684,  814,  278,  324,  161,  219,  545,  715,\n",
    "        966,  624,   29,  450,  107,   20,   91, 1325,  124, 1468,  104,\n",
    "       1309,  429,   62, 1878, 1104,  123,  251,   93,  188,  983,  166,\n",
    "         96,  702,   23,  524,   26,  299,   59,   39,   12,    2,  308,\n",
    "       1114,  813,  887])\n",
    "nht_live = np.array([ 645, 2088,   42, 2090,   11,  886, 1665, 1084, 2900, 2432,  750,\n",
    "       4021, 1070, 1765, 1322,   26,  548, 1525,   77, 2181, 2752,  127,\n",
    "       2147,  211,   41, 1575,  151,  479,  697,  557, 2267,  542,  392,\n",
    "         73,  603,  233,  255,  528,  397, 1529, 1023, 1194,  462,  583,\n",
    "         37,  943,  996,  480, 1497,  717,  224,  219, 1531,  498,   44,\n",
    "        288,  267,  600,   52,  269, 1086,  386,  176, 2199,  216,   54,\n",
    "        675, 1243,  463,  650,  171,  327,  110,  774,  509,    8,  197,\n",
    "        136,   12, 1124,   64,  380,  811,  232,  192,  731,  715,  226,\n",
    "        605,  539, 1491,  323,  240,  179,  702,  156,   82, 1397,  354,\n",
    "        778,  603, 1001,  385,  986,  203,  149,  576,  445,  180, 1403,\n",
    "        252,  675, 1351, 2983, 1568,   45,  899, 3260, 1025,   31,  100,\n",
    "       2055, 4043,   79,  238, 3931, 2351,  595,  110,  215,    0,  563,\n",
    "        206,  660,  242,  577,  179,  157,  192,  192, 1848,  792, 1693,\n",
    "         55,  388,  225, 1134, 1172, 1555,   31, 1582, 1044,  378, 1687,\n",
    "       2915,  280,  765, 2819,  511, 1521,  745, 2491,  580, 2072, 6450,\n",
    "        578,  745, 1075, 1103, 1549, 1520,  138, 1202,  296,  277,  351,\n",
    "        391,  950,  459,   62, 1056, 1128,  139,  420,   87,   71,  814,\n",
    "        603, 1349,  162, 1027,  783,  326,  101,  876,  381,  905,  156,\n",
    "        419,  239,  119,  129,  467])"
   ]
  },
  {
   "cell_type": "code",
   "execution_count": 194,
   "metadata": {},
   "outputs": [
    {
     "name": "stdout",
     "output_type": "stream",
     "text": [
      "p-val = 0.0001\n"
     ]
    }
   ],
   "source": [
    "# Compute the observed difference in mean inter-no-hitter times: nht_diff_obs\n",
    "nht_diff_obs = diff_of_means(nht_dead, nht_live)\n",
    "\n",
    "# Acquire 10,000 permutation replicates of difference in mean no-hitter time: perm_replicates\n",
    "perm_replicates = draw_perm_reps(nht_dead, nht_live, diff_of_means, 10000)\n",
    "\n",
    "\n",
    "# Compute and print the p-value: p\n",
    "p = np.sum(perm_replicates <= nht_diff_obs)/len(perm_replicates)\n",
    "print('p-val =',p)\n"
   ]
  },
  {
   "cell_type": "markdown",
   "metadata": {},
   "source": [
    "Small p value indicates that, assuming the regulation had no effect, there is a 1 in 10,000 chance that the before and after values could have been drawn that way from a \"randomly shuffled deck.\"\n",
    "\n",
    "**Notice: computed p values of 0 likely just p value is smaller than your resolution**"
   ]
  },
  {
   "cell_type": "markdown",
   "metadata": {},
   "source": [
    "### Test of Correlation\n",
    "**2008 US swing state election results**\n",
    "- using pearson correlation coefficient as test statistic\n",
    "    - formerly we obtained a ro = 0.54\n",
    "    - not perfectly correlated, but correlated none the less\n",
    "    \n",
    "**Hypothesis test of correlation**\n",
    "- Posit nul hypothesis: the two variables are completely uncorrelated\n",
    "- Simulate data assuming null hpothesis is true\n",
    "- Use Pearson correlation, ro as a test statistic\n",
    "- Compute p-values as fractions of replicates that have ro as high as the observed value\n",
    "\n",
    "If you're assuming x has no correlation to y, then leave the y values where they are, but randomly permute the x values, then compute the permuted_replicates. \n",
    "- this is like shuffling and drawing the x values 10,000 times and checking how often the shuffled x values happen to produce a ro at least as extreme as the observed ro\n",
    "\n",
    "### Ex: Hypothesis test on Pearson correlation of illiteracy and fertility\n"
   ]
  },
  {
   "cell_type": "code",
   "execution_count": 195,
   "metadata": {},
   "outputs": [
    {
     "name": "stdout",
     "output_type": "stream",
     "text": [
      "p-val = 0.0\n"
     ]
    }
   ],
   "source": [
    "# Compute observed correlation: r_obs\n",
    "r_obs = pearson_r(illiteracy, fertility)\n",
    "\n",
    "# Initialize permutation replicates: perm_replicates\n",
    "perm_replicates = np.empty(10000)\n",
    "\n",
    "# Draw replicates\n",
    "for i in range(10000):\n",
    "    # Permute illiteracy measurments: illiteracy_permuted\n",
    "    illiteracy_permuted = np.random.permutation(illiteracy)\n",
    "\n",
    "    # Compute Pearson correlation\n",
    "    perm_replicates[i] = pearson_r(illiteracy_permuted, fertility)\n",
    "\n",
    "# Compute p-value: p\n",
    "p = np.sum(perm_replicates >= r_obs) / len(perm_replicates)\n",
    "print('p-val =', p)"
   ]
  },
  {
   "cell_type": "markdown",
   "metadata": {},
   "source": [
    "a p-value of 0 means we didn't get a single result out of 10,000 simulations that met the observed value. That suggests the results are statistically significant. \n",
    "\n",
    "### Ex: Neonicotinoid insecticides and male bee fertility 🐝 \n",
    "check to see if neonicotinoid incecticides are reducing the count of live sperm in a half ml of bee sperm"
   ]
  },
  {
   "cell_type": "code",
   "execution_count": 196,
   "metadata": {},
   "outputs": [],
   "source": [
    "control = np.array([ 4.159234,  4.408002,  0.172812,  3.498278,  3.104912,  5.164174,\n",
    "        6.615262,  4.633066,  0.170408,  2.65    ,  0.0875  ,  1.997148,\n",
    "        6.92668 ,  4.574932,  3.896466,  5.209814,  3.70625 ,  0.      ,\n",
    "        4.62545 ,  3.01444 ,  0.732652,  0.4     ,  6.518382,  5.225   ,\n",
    "        6.218742,  6.840358,  1.211308,  0.368252,  3.59937 ,  4.212158,\n",
    "        6.052364,  2.115532,  6.60413 ,  5.26074 ,  6.05695 ,  6.481172,\n",
    "        3.171522,  3.057228,  0.218808,  5.215112,  4.465168,  2.28909 ,\n",
    "        3.732572,  2.17087 ,  1.834326,  6.074862,  5.841978,  8.524892,\n",
    "        4.698492,  2.965624,  2.324206,  3.409412,  4.830726,  0.1     ,\n",
    "        0.      ,  4.101432,  3.478162,  1.009688,  4.999296,  4.32196 ,\n",
    "        0.299592,  3.606032,  7.54026 ,  4.284024,  0.057494,  6.036668,\n",
    "        2.924084,  4.150144,  1.256926,  4.666502,  4.806594,  2.52478 ,\n",
    "        2.027654,  2.52283 ,  4.735598,  2.033236,  0.      ,  6.177294,\n",
    "        2.601834,  3.544408,  3.6045  ,  5.520346,  4.80698 ,  3.002478,\n",
    "        3.559816,  7.075844, 10.      ,  0.139772,  6.17171 ,  3.201232,\n",
    "        8.459546,  0.17857 ,  7.088276,  5.496662,  5.415086,  1.932282,\n",
    "        3.02838 ,  7.47996 ,  1.86259 ,  7.838498,  2.242718,  3.292958,\n",
    "        6.363644,  4.386898,  8.47533 ,  4.156304,  1.463956,  4.533628,\n",
    "        5.573922,  1.29454 ,  7.547504,  3.92466 ,  5.820258,  4.118522,\n",
    "        4.125   ,  2.286698,  0.591882,  1.273124,  0.      ,  0.      ,\n",
    "        0.      , 12.22502 ,  7.601604,  5.56798 ,  1.679914,  8.77096 ,\n",
    "        5.823942,  0.258374,  0.      ,  5.899236,  5.486354,  2.053148,\n",
    "        3.25541 ,  2.72564 ,  3.364066,  2.43427 ,  5.282548,  3.963666,\n",
    "        0.24851 ,  0.347916,  4.046862,  5.461436,  4.066104,  0.      ,\n",
    "        0.065   ])\n",
    "treated = np.array([1.342686, 1.058476, 3.793784, 0.40428 , 4.528388, 2.142966,\n",
    "       3.937742, 0.1375  , 6.919164, 0.      , 3.597812, 5.196538,\n",
    "       2.78955 , 2.3229  , 1.090636, 5.323916, 1.021618, 0.931836,\n",
    "       2.78    , 0.412202, 1.180934, 2.8674  , 0.      , 0.064354,\n",
    "       3.008348, 0.876634, 0.      , 4.971712, 7.280658, 4.79732 ,\n",
    "       2.084956, 3.251514, 1.9405  , 1.566192, 0.58894 , 5.219658,\n",
    "       0.977976, 3.124584, 1.297564, 1.433328, 4.24337 , 0.880964,\n",
    "       2.376566, 3.763658, 1.918426, 3.74    , 3.841726, 4.69964 ,\n",
    "       4.386876, 0.      , 1.127432, 1.845452, 0.690314, 4.185602,\n",
    "       2.284732, 7.237594, 2.185148, 2.799124, 3.43218 , 0.63354 ,\n",
    "       1.142496, 0.586   , 2.372858, 1.80032 , 3.329306, 4.028804,\n",
    "       3.474156, 7.508752, 2.032824, 1.336556, 1.906496, 1.396046,\n",
    "       2.488104, 4.759114, 1.07853 , 3.19927 , 3.814252, 4.275962,\n",
    "       2.817056, 0.552198, 3.27194 , 5.11525 , 2.064628, 0.      ,\n",
    "       3.34101 , 6.177322, 0.      , 3.66415 , 2.352582, 1.531696])"
   ]
  },
  {
   "cell_type": "code",
   "execution_count": 197,
   "metadata": {},
   "outputs": [
    {
     "data": {
      "image/png": "[encoded data removed]",
      "text/plain": [
       "<Figure size 432x288 with 1 Axes>"
      ]
     },
     "metadata": {},
     "output_type": "display_data"
    }
   ],
   "source": [
    "# Start with some EDA\n",
    "\n",
    "# Compute the x,y values for ECDFS\n",
    "x_control, y_control = ecdf(control)\n",
    "x_treated, y_treated = ecdf(treated)\n",
    "\n",
    "# plot the ECDFS\n",
    "plt.plot(x_control, y_control, marker = '.', linestyle = 'none')\n",
    "plt.plot(x_treated, y_treated, marker = '.', linestyle = 'none')\n",
    "\n",
    "# set the margins\n",
    "plt.margins(0.02)\n",
    "\n",
    "# Add a legend\n",
    "plt.legend(('control', 'treated'), loc = 'lower right')\n",
    "\n",
    "# Label axes and show plot\n",
    "plt.xlabel('millions of alive sperm mer mL')\n",
    "plt.ylabel('Empirical Cumulative Distribution Function')\n",
    "plt.show()"
   ]
  },
  {
   "cell_type": "markdown",
   "metadata": {},
   "source": [
    "the plot shows a clear difference with treated bees having lower sperm counts. Let's test the hypothesis now.\n",
    "\n",
    "### Bootstrap hypothesis test on bee sperm counts\n",
    "**hypothesis** On average, male bees treated with neonicotinoid insecticide have the same bumber of active sperm per mililiter of semen than do untreated male bees. \n",
    "**test statistic** difference of means"
   ]
  },
  {
   "cell_type": "code",
   "execution_count": 198,
   "metadata": {},
   "outputs": [
    {
     "name": "stdout",
     "output_type": "stream",
     "text": [
      "p-value  0.0\n"
     ]
    }
   ],
   "source": [
    "# compute the difference in mean sperm count:\n",
    "diff_means = diff_of_means(control, treated)\n",
    "\n",
    "# compute mean of pooled data:\n",
    "mean_count = np.mean(np.concatenate((control, treated)))\n",
    "\n",
    "# Generate shifted data sets\n",
    "control_shifted = control - np.mean(control) + mean_count\n",
    "treated_shifted = treated - np.mean(treated) + mean_count\n",
    "\n",
    "# Generate bootstrap replicates\n",
    "bs_reps_control = draw_bs_reps(control_shifted, np.mean, size = 10000)\n",
    "bs_reps_traeted = draw_bs_reps(treated_shifted, np.mean, size = 10000)\n",
    "\n",
    "# Get replicates of difference of means:\n",
    "bs_replicates = bs_reps_control - bs_reps_control - bs_reps_traeted\n",
    "\n",
    "# Compute and print p-value\n",
    "p = np.sum(bs_replicates >= np.mean(control) - np.mean(treated))/len(bs_replicates)\n",
    "print('p-value ', p)"
   ]
  },
  {
   "cell_type": "code",
   "execution_count": null,
   "metadata": {},
   "outputs": [],
   "source": []
  }
 ],
 "metadata": {
  "kernelspec": {
   "display_name": "Python 3",
   "language": "python",
   "name": "python3"
  },
  "language_info": {
   "codemirror_mode": {
    "name": "ipython",
    "version": 3
   },
   "file_extension": ".py",
   "mimetype": "text/x-python",
   "name": "python",
   "nbconvert_exporter": "python",
   "pygments_lexer": "ipython3",
   "version": "3.6.5"
  }
 },
 "nbformat": 4,
 "nbformat_minor": 2
}
